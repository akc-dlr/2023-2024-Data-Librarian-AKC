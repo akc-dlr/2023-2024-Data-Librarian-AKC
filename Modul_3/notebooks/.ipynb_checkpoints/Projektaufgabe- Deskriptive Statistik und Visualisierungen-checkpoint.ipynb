{
 "cells": [
  {
   "cell_type": "code",
   "execution_count": 1,
   "id": "81550ef1",
   "metadata": {},
   "outputs": [],
   "source": [
    "import pandas as pd\n",
    "import matplotlib.pyplot as plt\n",
    "import seaborn as sns\n",
    "import numpy as np\n",
    "%matplotlib inline\n",
    "sns.set()"
   ]
  },
  {
   "cell_type": "code",
   "execution_count": 2,
   "id": "dfeb63e4",
   "metadata": {},
   "outputs": [
    {
     "name": "stderr",
     "output_type": "stream",
     "text": [
      "/tmp/ipykernel_14053/3583562725.py:1: DtypeWarning: Columns (13) have mixed types. Specify dtype option on import or set low_memory=False.\n",
      "  data = pd.read_csv(\"/home/anni/Schreibtisch/2023-2024-Data-Librarian-AKC/Modul_3/data/Library_Usage.csv\",\n"
     ]
    }
   ],
   "source": [
    "data = pd.read_csv(\"/home/anni/Schreibtisch/2023-2024-Data-Librarian-AKC/Modul_3/data/Library_Usage.csv\",\n",
    "                  na_values=\"none\")"
   ]
  },
  {
   "cell_type": "markdown",
   "id": "c4ae435b",
   "metadata": {},
   "source": []
  },
  {
   "cell_type": "code",
   "execution_count": 3,
   "id": "27571a80",
   "metadata": {},
   "outputs": [
    {
     "data": {
      "text/plain": [
       "436290"
      ]
     },
     "execution_count": 3,
     "metadata": {},
     "output_type": "execute_result"
    }
   ],
   "source": [
    "len(data)"
   ]
  },
  {
   "cell_type": "code",
   "execution_count": 4,
   "id": "ec1ca169",
   "metadata": {},
   "outputs": [
    {
     "data": {
      "text/html": [
       "<div>\n",
       "<style scoped>\n",
       "    .dataframe tbody tr th:only-of-type {\n",
       "        vertical-align: middle;\n",
       "    }\n",
       "\n",
       "    .dataframe tbody tr th {\n",
       "        vertical-align: top;\n",
       "    }\n",
       "\n",
       "    .dataframe thead th {\n",
       "        text-align: right;\n",
       "    }\n",
       "</style>\n",
       "<table border=\"1\" class=\"dataframe\">\n",
       "  <thead>\n",
       "    <tr style=\"text-align: right;\">\n",
       "      <th></th>\n",
       "      <th>Patron Type Code</th>\n",
       "      <th>Patron Type Definition</th>\n",
       "      <th>Total Checkouts</th>\n",
       "      <th>Total Renewals</th>\n",
       "      <th>Age Range</th>\n",
       "      <th>Home Library Code</th>\n",
       "      <th>Home Library Definition</th>\n",
       "      <th>Circulation Active Month</th>\n",
       "      <th>Circulation Active Year</th>\n",
       "      <th>Notice Preference Code</th>\n",
       "      <th>Notice Preference Definition</th>\n",
       "      <th>Provided Email Address</th>\n",
       "      <th>Year Patron Registered</th>\n",
       "      <th>Within San Francisco County</th>\n",
       "    </tr>\n",
       "  </thead>\n",
       "  <tbody>\n",
       "    <tr>\n",
       "      <th>51592</th>\n",
       "      <td>3</td>\n",
       "      <td>Senior</td>\n",
       "      <td>22934</td>\n",
       "      <td>583</td>\n",
       "      <td>65 to 74 years</td>\n",
       "      <td>x</td>\n",
       "      <td>Main</td>\n",
       "      <td>Jul</td>\n",
       "      <td>2023.0</td>\n",
       "      <td>NaN</td>\n",
       "      <td>NaN</td>\n",
       "      <td>False</td>\n",
       "      <td>2003</td>\n",
       "      <td>False</td>\n",
       "    </tr>\n",
       "    <tr>\n",
       "      <th>74783</th>\n",
       "      <td>3</td>\n",
       "      <td>Senior</td>\n",
       "      <td>21890</td>\n",
       "      <td>16</td>\n",
       "      <td>75 years and over</td>\n",
       "      <td>x</td>\n",
       "      <td>Main</td>\n",
       "      <td>Jan</td>\n",
       "      <td>2023.0</td>\n",
       "      <td>z</td>\n",
       "      <td>Email</td>\n",
       "      <td>True</td>\n",
       "      <td>2005</td>\n",
       "      <td>False</td>\n",
       "    </tr>\n",
       "    <tr>\n",
       "      <th>95369</th>\n",
       "      <td>3</td>\n",
       "      <td>Senior</td>\n",
       "      <td>20411</td>\n",
       "      <td>2606</td>\n",
       "      <td>65 to 74 years</td>\n",
       "      <td>x</td>\n",
       "      <td>Main</td>\n",
       "      <td>Aug</td>\n",
       "      <td>2019.0</td>\n",
       "      <td>NaN</td>\n",
       "      <td>NaN</td>\n",
       "      <td>False</td>\n",
       "      <td>2003</td>\n",
       "      <td>False</td>\n",
       "    </tr>\n",
       "    <tr>\n",
       "      <th>95967</th>\n",
       "      <td>3</td>\n",
       "      <td>Senior</td>\n",
       "      <td>20351</td>\n",
       "      <td>902</td>\n",
       "      <td>65 to 74 years</td>\n",
       "      <td>x</td>\n",
       "      <td>Main</td>\n",
       "      <td>Jul</td>\n",
       "      <td>2023.0</td>\n",
       "      <td>NaN</td>\n",
       "      <td>NaN</td>\n",
       "      <td>False</td>\n",
       "      <td>2004</td>\n",
       "      <td>False</td>\n",
       "    </tr>\n",
       "    <tr>\n",
       "      <th>192830</th>\n",
       "      <td>0</td>\n",
       "      <td>Adult</td>\n",
       "      <td>23706</td>\n",
       "      <td>384</td>\n",
       "      <td>45 to 54 years</td>\n",
       "      <td>c2</td>\n",
       "      <td>Chinatown</td>\n",
       "      <td>Jul</td>\n",
       "      <td>2023.0</td>\n",
       "      <td>NaN</td>\n",
       "      <td>NaN</td>\n",
       "      <td>False</td>\n",
       "      <td>2003</td>\n",
       "      <td>False</td>\n",
       "    </tr>\n",
       "    <tr>\n",
       "      <th>198191</th>\n",
       "      <td>0</td>\n",
       "      <td>Adult</td>\n",
       "      <td>37249</td>\n",
       "      <td>628</td>\n",
       "      <td>55 to 59 years</td>\n",
       "      <td>o7</td>\n",
       "      <td>Ortega</td>\n",
       "      <td>Jul</td>\n",
       "      <td>2023.0</td>\n",
       "      <td>z</td>\n",
       "      <td>Email</td>\n",
       "      <td>True</td>\n",
       "      <td>2003</td>\n",
       "      <td>False</td>\n",
       "    </tr>\n",
       "    <tr>\n",
       "      <th>278966</th>\n",
       "      <td>0</td>\n",
       "      <td>Adult</td>\n",
       "      <td>33122</td>\n",
       "      <td>57</td>\n",
       "      <td>25 to 34 years</td>\n",
       "      <td>s7</td>\n",
       "      <td>Sunset</td>\n",
       "      <td>Jul</td>\n",
       "      <td>2023.0</td>\n",
       "      <td>z</td>\n",
       "      <td>Email</td>\n",
       "      <td>True</td>\n",
       "      <td>2010</td>\n",
       "      <td>False</td>\n",
       "    </tr>\n",
       "    <tr>\n",
       "      <th>354659</th>\n",
       "      <td>0</td>\n",
       "      <td>Adult</td>\n",
       "      <td>22187</td>\n",
       "      <td>5706</td>\n",
       "      <td>55 to 59 years</td>\n",
       "      <td>c2</td>\n",
       "      <td>Chinatown</td>\n",
       "      <td>Jul</td>\n",
       "      <td>2023.0</td>\n",
       "      <td>z</td>\n",
       "      <td>Email</td>\n",
       "      <td>True</td>\n",
       "      <td>2003</td>\n",
       "      <td>False</td>\n",
       "    </tr>\n",
       "    <tr>\n",
       "      <th>375195</th>\n",
       "      <td>0</td>\n",
       "      <td>Adult</td>\n",
       "      <td>45380</td>\n",
       "      <td>143</td>\n",
       "      <td>35 to 44 years</td>\n",
       "      <td>v3</td>\n",
       "      <td>Visitacion Valley</td>\n",
       "      <td>Dec</td>\n",
       "      <td>2020.0</td>\n",
       "      <td>NaN</td>\n",
       "      <td>NaN</td>\n",
       "      <td>False</td>\n",
       "      <td>2003</td>\n",
       "      <td>False</td>\n",
       "    </tr>\n",
       "  </tbody>\n",
       "</table>\n",
       "</div>"
      ],
      "text/plain": [
       "        Patron Type Code Patron Type Definition  Total Checkouts  \\\n",
       "51592                  3                 Senior            22934   \n",
       "74783                  3                 Senior            21890   \n",
       "95369                  3                 Senior            20411   \n",
       "95967                  3                 Senior            20351   \n",
       "192830                 0                  Adult            23706   \n",
       "198191                 0                  Adult            37249   \n",
       "278966                 0                  Adult            33122   \n",
       "354659                 0                  Adult            22187   \n",
       "375195                 0                  Adult            45380   \n",
       "\n",
       "        Total Renewals          Age Range Home Library Code  \\\n",
       "51592              583     65 to 74 years                 x   \n",
       "74783               16  75 years and over                 x   \n",
       "95369             2606     65 to 74 years                 x   \n",
       "95967              902     65 to 74 years                 x   \n",
       "192830             384     45 to 54 years                c2   \n",
       "198191             628     55 to 59 years                o7   \n",
       "278966              57     25 to 34 years                s7   \n",
       "354659            5706     55 to 59 years                c2   \n",
       "375195             143     35 to 44 years                v3   \n",
       "\n",
       "       Home Library Definition Circulation Active Month  \\\n",
       "51592                     Main                      Jul   \n",
       "74783                     Main                      Jan   \n",
       "95369                     Main                      Aug   \n",
       "95967                     Main                      Jul   \n",
       "192830               Chinatown                      Jul   \n",
       "198191                  Ortega                      Jul   \n",
       "278966                  Sunset                      Jul   \n",
       "354659               Chinatown                      Jul   \n",
       "375195       Visitacion Valley                      Dec   \n",
       "\n",
       "        Circulation Active Year Notice Preference Code  \\\n",
       "51592                    2023.0                    NaN   \n",
       "74783                    2023.0                      z   \n",
       "95369                    2019.0                    NaN   \n",
       "95967                    2023.0                    NaN   \n",
       "192830                   2023.0                    NaN   \n",
       "198191                   2023.0                      z   \n",
       "278966                   2023.0                      z   \n",
       "354659                   2023.0                      z   \n",
       "375195                   2020.0                    NaN   \n",
       "\n",
       "       Notice Preference Definition  Provided Email Address  \\\n",
       "51592                           NaN                   False   \n",
       "74783                         Email                    True   \n",
       "95369                           NaN                   False   \n",
       "95967                           NaN                   False   \n",
       "192830                          NaN                   False   \n",
       "198191                        Email                    True   \n",
       "278966                        Email                    True   \n",
       "354659                        Email                    True   \n",
       "375195                          NaN                   False   \n",
       "\n",
       "        Year Patron Registered Within San Francisco County  \n",
       "51592                     2003                       False  \n",
       "74783                     2005                       False  \n",
       "95369                     2003                       False  \n",
       "95967                     2004                       False  \n",
       "192830                    2003                       False  \n",
       "198191                    2003                       False  \n",
       "278966                    2010                       False  \n",
       "354659                    2003                       False  \n",
       "375195                    2003                       False  "
      ]
     },
     "execution_count": 4,
     "metadata": {},
     "output_type": "execute_result"
    }
   ],
   "source": [
    "data.loc[data['Total Checkouts'] > 20000]"
   ]
  },
  {
   "cell_type": "code",
   "execution_count": 5,
   "id": "d22c34a6",
   "metadata": {},
   "outputs": [
    {
     "data": {
      "text/plain": [
       "Index(['Patron Type Code', 'Patron Type Definition', 'Total Checkouts',\n",
       "       'Total Renewals', 'Age Range', 'Home Library Code',\n",
       "       'Home Library Definition', 'Circulation Active Month',\n",
       "       'Circulation Active Year', 'Notice Preference Code',\n",
       "       'Notice Preference Definition', 'Provided Email Address',\n",
       "       'Year Patron Registered', 'Within San Francisco County'],\n",
       "      dtype='object')"
      ]
     },
     "execution_count": 5,
     "metadata": {},
     "output_type": "execute_result"
    }
   ],
   "source": [
    "data.columns"
   ]
  },
  {
   "cell_type": "code",
   "execution_count": 6,
   "id": "c7b47bcc",
   "metadata": {},
   "outputs": [
    {
     "data": {
      "text/plain": [
       "array([nan, '45 to 54 years', '55 to 59 years', '60 to 64 years',\n",
       "       '25 to 34 years', '35 to 44 years', '20 to 24 years',\n",
       "       '75 years and over', '10 to 19 years', '0 to 9 years',\n",
       "       '65 to 74 years'], dtype=object)"
      ]
     },
     "execution_count": 6,
     "metadata": {},
     "output_type": "execute_result"
    }
   ],
   "source": [
    "data['Age Range'].unique()"
   ]
  },
  {
   "cell_type": "code",
   "execution_count": 7,
   "id": "70eb5ea3",
   "metadata": {},
   "outputs": [],
   "source": [
    "age_filter = (data['Age Range'].isin(['0 to 9 years', '10 to 19 years', '65 to 74 years', '75 years and over']))"
   ]
  },
  {
   "cell_type": "code",
   "execution_count": 8,
   "id": "6b9cfbd7",
   "metadata": {},
   "outputs": [
    {
     "data": {
      "text/html": [
       "<div>\n",
       "<style scoped>\n",
       "    .dataframe tbody tr th:only-of-type {\n",
       "        vertical-align: middle;\n",
       "    }\n",
       "\n",
       "    .dataframe tbody tr th {\n",
       "        vertical-align: top;\n",
       "    }\n",
       "\n",
       "    .dataframe thead th {\n",
       "        text-align: right;\n",
       "    }\n",
       "</style>\n",
       "<table border=\"1\" class=\"dataframe\">\n",
       "  <thead>\n",
       "    <tr style=\"text-align: right;\">\n",
       "      <th></th>\n",
       "      <th>Patron Type Code</th>\n",
       "      <th>Patron Type Definition</th>\n",
       "      <th>Total Checkouts</th>\n",
       "      <th>Total Renewals</th>\n",
       "      <th>Age Range</th>\n",
       "      <th>Home Library Code</th>\n",
       "      <th>Home Library Definition</th>\n",
       "      <th>Circulation Active Month</th>\n",
       "      <th>Circulation Active Year</th>\n",
       "      <th>Notice Preference Code</th>\n",
       "      <th>Notice Preference Definition</th>\n",
       "      <th>Provided Email Address</th>\n",
       "      <th>Year Patron Registered</th>\n",
       "      <th>Within San Francisco County</th>\n",
       "    </tr>\n",
       "  </thead>\n",
       "  <tbody>\n",
       "    <tr>\n",
       "      <th>33</th>\n",
       "      <td>16</td>\n",
       "      <td>Digital Access Card</td>\n",
       "      <td>0</td>\n",
       "      <td>0</td>\n",
       "      <td>75 years and over</td>\n",
       "      <td>a5</td>\n",
       "      <td>Anza</td>\n",
       "      <td>Mar</td>\n",
       "      <td>2022.0</td>\n",
       "      <td>NaN</td>\n",
       "      <td>NaN</td>\n",
       "      <td>False</td>\n",
       "      <td>2022</td>\n",
       "      <td>False</td>\n",
       "    </tr>\n",
       "    <tr>\n",
       "      <th>35</th>\n",
       "      <td>16</td>\n",
       "      <td>Digital Access Card</td>\n",
       "      <td>0</td>\n",
       "      <td>0</td>\n",
       "      <td>10 to 19 years</td>\n",
       "      <td>x</td>\n",
       "      <td>Main</td>\n",
       "      <td>Aug</td>\n",
       "      <td>2021.0</td>\n",
       "      <td>z</td>\n",
       "      <td>Email</td>\n",
       "      <td>True</td>\n",
       "      <td>2021</td>\n",
       "      <td>False</td>\n",
       "    </tr>\n",
       "    <tr>\n",
       "      <th>39</th>\n",
       "      <td>1</td>\n",
       "      <td>Juvenile</td>\n",
       "      <td>108</td>\n",
       "      <td>108</td>\n",
       "      <td>0 to 9 years</td>\n",
       "      <td>o7</td>\n",
       "      <td>Ortega</td>\n",
       "      <td>Jul</td>\n",
       "      <td>2023.0</td>\n",
       "      <td>z</td>\n",
       "      <td>Email</td>\n",
       "      <td>True</td>\n",
       "      <td>2021</td>\n",
       "      <td>False</td>\n",
       "    </tr>\n",
       "    <tr>\n",
       "      <th>43</th>\n",
       "      <td>3</td>\n",
       "      <td>Senior</td>\n",
       "      <td>1</td>\n",
       "      <td>0</td>\n",
       "      <td>75 years and over</td>\n",
       "      <td>x</td>\n",
       "      <td>Main</td>\n",
       "      <td>Aug</td>\n",
       "      <td>2019.0</td>\n",
       "      <td>z</td>\n",
       "      <td>Email</td>\n",
       "      <td>True</td>\n",
       "      <td>2019</td>\n",
       "      <td>False</td>\n",
       "    </tr>\n",
       "    <tr>\n",
       "      <th>45</th>\n",
       "      <td>1</td>\n",
       "      <td>Juvenile</td>\n",
       "      <td>0</td>\n",
       "      <td>0</td>\n",
       "      <td>0 to 9 years</td>\n",
       "      <td>x</td>\n",
       "      <td>Main</td>\n",
       "      <td>NaN</td>\n",
       "      <td>NaN</td>\n",
       "      <td>z</td>\n",
       "      <td>Email</td>\n",
       "      <td>True</td>\n",
       "      <td>2021</td>\n",
       "      <td>False</td>\n",
       "    </tr>\n",
       "    <tr>\n",
       "      <th>...</th>\n",
       "      <td>...</td>\n",
       "      <td>...</td>\n",
       "      <td>...</td>\n",
       "      <td>...</td>\n",
       "      <td>...</td>\n",
       "      <td>...</td>\n",
       "      <td>...</td>\n",
       "      <td>...</td>\n",
       "      <td>...</td>\n",
       "      <td>...</td>\n",
       "      <td>...</td>\n",
       "      <td>...</td>\n",
       "      <td>...</td>\n",
       "      <td>...</td>\n",
       "    </tr>\n",
       "    <tr>\n",
       "      <th>436275</th>\n",
       "      <td>2</td>\n",
       "      <td>Teen</td>\n",
       "      <td>0</td>\n",
       "      <td>0</td>\n",
       "      <td>10 to 19 years</td>\n",
       "      <td>x</td>\n",
       "      <td>Main</td>\n",
       "      <td>NaN</td>\n",
       "      <td>NaN</td>\n",
       "      <td>NaN</td>\n",
       "      <td>NaN</td>\n",
       "      <td>False</td>\n",
       "      <td>2023</td>\n",
       "      <td>NaN</td>\n",
       "    </tr>\n",
       "    <tr>\n",
       "      <th>436279</th>\n",
       "      <td>4</td>\n",
       "      <td>Welcome</td>\n",
       "      <td>0</td>\n",
       "      <td>0</td>\n",
       "      <td>65 to 74 years</td>\n",
       "      <td>x</td>\n",
       "      <td>Main</td>\n",
       "      <td>Jul</td>\n",
       "      <td>2022.0</td>\n",
       "      <td>NaN</td>\n",
       "      <td>NaN</td>\n",
       "      <td>False</td>\n",
       "      <td>2022</td>\n",
       "      <td>NaN</td>\n",
       "    </tr>\n",
       "    <tr>\n",
       "      <th>436281</th>\n",
       "      <td>1</td>\n",
       "      <td>Juvenile</td>\n",
       "      <td>1</td>\n",
       "      <td>1</td>\n",
       "      <td>0 to 9 years</td>\n",
       "      <td>x</td>\n",
       "      <td>Main</td>\n",
       "      <td>Jul</td>\n",
       "      <td>2023.0</td>\n",
       "      <td>NaN</td>\n",
       "      <td>NaN</td>\n",
       "      <td>False</td>\n",
       "      <td>2023</td>\n",
       "      <td>NaN</td>\n",
       "    </tr>\n",
       "    <tr>\n",
       "      <th>436286</th>\n",
       "      <td>2</td>\n",
       "      <td>Teen</td>\n",
       "      <td>3</td>\n",
       "      <td>0</td>\n",
       "      <td>10 to 19 years</td>\n",
       "      <td>yjj</td>\n",
       "      <td>Bookmobile</td>\n",
       "      <td>Nov</td>\n",
       "      <td>2015.0</td>\n",
       "      <td>z</td>\n",
       "      <td>Email</td>\n",
       "      <td>True</td>\n",
       "      <td>2011</td>\n",
       "      <td>NaN</td>\n",
       "    </tr>\n",
       "    <tr>\n",
       "      <th>436289</th>\n",
       "      <td>55</td>\n",
       "      <td>Retired Staff</td>\n",
       "      <td>309</td>\n",
       "      <td>101</td>\n",
       "      <td>75 years and over</td>\n",
       "      <td>ylw</td>\n",
       "      <td>Bookmobile</td>\n",
       "      <td>Jul</td>\n",
       "      <td>2023.0</td>\n",
       "      <td>z</td>\n",
       "      <td>Email</td>\n",
       "      <td>True</td>\n",
       "      <td>2003</td>\n",
       "      <td>NaN</td>\n",
       "    </tr>\n",
       "  </tbody>\n",
       "</table>\n",
       "<p>150560 rows × 14 columns</p>\n",
       "</div>"
      ],
      "text/plain": [
       "        Patron Type Code Patron Type Definition  Total Checkouts  \\\n",
       "33                    16    Digital Access Card                0   \n",
       "35                    16    Digital Access Card                0   \n",
       "39                     1               Juvenile              108   \n",
       "43                     3                 Senior                1   \n",
       "45                     1               Juvenile                0   \n",
       "...                  ...                    ...              ...   \n",
       "436275                 2                   Teen                0   \n",
       "436279                 4                Welcome                0   \n",
       "436281                 1               Juvenile                1   \n",
       "436286                 2                   Teen                3   \n",
       "436289                55          Retired Staff              309   \n",
       "\n",
       "        Total Renewals          Age Range Home Library Code  \\\n",
       "33                   0  75 years and over                a5   \n",
       "35                   0     10 to 19 years                 x   \n",
       "39                 108       0 to 9 years                o7   \n",
       "43                   0  75 years and over                 x   \n",
       "45                   0       0 to 9 years                 x   \n",
       "...                ...                ...               ...   \n",
       "436275               0     10 to 19 years                 x   \n",
       "436279               0     65 to 74 years                 x   \n",
       "436281               1       0 to 9 years                 x   \n",
       "436286               0     10 to 19 years               yjj   \n",
       "436289             101  75 years and over               ylw   \n",
       "\n",
       "       Home Library Definition Circulation Active Month  \\\n",
       "33                        Anza                      Mar   \n",
       "35                        Main                      Aug   \n",
       "39                      Ortega                      Jul   \n",
       "43                        Main                      Aug   \n",
       "45                        Main                      NaN   \n",
       "...                        ...                      ...   \n",
       "436275                    Main                      NaN   \n",
       "436279                    Main                      Jul   \n",
       "436281                    Main                      Jul   \n",
       "436286              Bookmobile                      Nov   \n",
       "436289              Bookmobile                      Jul   \n",
       "\n",
       "        Circulation Active Year Notice Preference Code  \\\n",
       "33                       2022.0                    NaN   \n",
       "35                       2021.0                      z   \n",
       "39                       2023.0                      z   \n",
       "43                       2019.0                      z   \n",
       "45                          NaN                      z   \n",
       "...                         ...                    ...   \n",
       "436275                      NaN                    NaN   \n",
       "436279                   2022.0                    NaN   \n",
       "436281                   2023.0                    NaN   \n",
       "436286                   2015.0                      z   \n",
       "436289                   2023.0                      z   \n",
       "\n",
       "       Notice Preference Definition  Provided Email Address  \\\n",
       "33                              NaN                   False   \n",
       "35                            Email                    True   \n",
       "39                            Email                    True   \n",
       "43                            Email                    True   \n",
       "45                            Email                    True   \n",
       "...                             ...                     ...   \n",
       "436275                          NaN                   False   \n",
       "436279                          NaN                   False   \n",
       "436281                          NaN                   False   \n",
       "436286                        Email                    True   \n",
       "436289                        Email                    True   \n",
       "\n",
       "        Year Patron Registered Within San Francisco County  \n",
       "33                        2022                       False  \n",
       "35                        2021                       False  \n",
       "39                        2021                       False  \n",
       "43                        2019                       False  \n",
       "45                        2021                       False  \n",
       "...                        ...                         ...  \n",
       "436275                    2023                         NaN  \n",
       "436279                    2022                         NaN  \n",
       "436281                    2023                         NaN  \n",
       "436286                    2011                         NaN  \n",
       "436289                    2003                         NaN  \n",
       "\n",
       "[150560 rows x 14 columns]"
      ]
     },
     "execution_count": 8,
     "metadata": {},
     "output_type": "execute_result"
    }
   ],
   "source": [
    "data.loc[age_filter]"
   ]
  },
  {
   "cell_type": "code",
   "execution_count": 9,
   "id": "b4015aab",
   "metadata": {},
   "outputs": [
    {
     "data": {
      "text/plain": [
       "Patron Type Code                    0\n",
       "Patron Type Definition              0\n",
       "Total Checkouts                     0\n",
       "Total Renewals                      0\n",
       "Age Range                         912\n",
       "Home Library Code                  30\n",
       "Home Library Definition            30\n",
       "Circulation Active Month        39513\n",
       "Circulation Active Year         39513\n",
       "Notice Preference Code          42989\n",
       "Notice Preference Definition    42989\n",
       "Provided Email Address              0\n",
       "Year Patron Registered              0\n",
       "Within San Francisco County      1207\n",
       "dtype: int64"
      ]
     },
     "execution_count": 9,
     "metadata": {},
     "output_type": "execute_result"
    }
   ],
   "source": [
    "data.isna().sum()"
   ]
  },
  {
   "cell_type": "code",
   "execution_count": 10,
   "id": "93214223",
   "metadata": {},
   "outputs": [
    {
     "data": {
      "text/plain": [
       "0              keine Angabe\n",
       "1              keine Angabe\n",
       "2            45 to 54 years\n",
       "3              keine Angabe\n",
       "4              keine Angabe\n",
       "                ...        \n",
       "436285       35 to 44 years\n",
       "436286       10 to 19 years\n",
       "436287       60 to 64 years\n",
       "436288       35 to 44 years\n",
       "436289    75 years and over\n",
       "Name: Age Range, Length: 436290, dtype: object"
      ]
     },
     "execution_count": 10,
     "metadata": {},
     "output_type": "execute_result"
    }
   ],
   "source": [
    "data['Age Range'].fillna(\"keine Angabe\")"
   ]
  },
  {
   "cell_type": "code",
   "execution_count": 11,
   "id": "394ceef3",
   "metadata": {},
   "outputs": [
    {
     "name": "stderr",
     "output_type": "stream",
     "text": [
      "/home/anni/anaconda3/lib/python3.11/site-packages/seaborn/axisgrid.py:118: UserWarning: The figure layout has changed to tight\n",
      "  self._figure.tight_layout(*args, **kwargs)\n"
     ]
    },
    {
     "data": {
      "text/plain": [
       "<seaborn.axisgrid.FacetGrid at 0x7f68ad3aa650>"
      ]
     },
     "execution_count": 11,
     "metadata": {},
     "output_type": "execute_result"
    },
    {
     "data": {
      "image/png": "[encoded data removed]",
      "text/plain": [
       "<Figure size 500x500 with 1 Axes>"
      ]
     },
     "metadata": {},
     "output_type": "display_data"
    }
   ],
   "source": [
    "sns.catplot(y='Age Range',\n",
    "            data=data, kind='count', color=\"steelblue\")"
   ]
  },
  {
   "cell_type": "code",
   "execution_count": 12,
   "id": "c5ef27fd",
   "metadata": {},
   "outputs": [],
   "source": [
    "filtered_df = data.loc[age_filter]"
   ]
  },
  {
   "cell_type": "code",
   "execution_count": 13,
   "id": "c0870803",
   "metadata": {},
   "outputs": [
    {
     "data": {
      "text/html": [
       "<div>\n",
       "<style scoped>\n",
       "    .dataframe tbody tr th:only-of-type {\n",
       "        vertical-align: middle;\n",
       "    }\n",
       "\n",
       "    .dataframe tbody tr th {\n",
       "        vertical-align: top;\n",
       "    }\n",
       "\n",
       "    .dataframe thead th {\n",
       "        text-align: right;\n",
       "    }\n",
       "</style>\n",
       "<table border=\"1\" class=\"dataframe\">\n",
       "  <thead>\n",
       "    <tr style=\"text-align: right;\">\n",
       "      <th></th>\n",
       "      <th>Patron Type Code</th>\n",
       "      <th>Patron Type Definition</th>\n",
       "      <th>Total Checkouts</th>\n",
       "      <th>Total Renewals</th>\n",
       "      <th>Age Range</th>\n",
       "      <th>Home Library Code</th>\n",
       "      <th>Home Library Definition</th>\n",
       "      <th>Circulation Active Month</th>\n",
       "      <th>Circulation Active Year</th>\n",
       "      <th>Notice Preference Code</th>\n",
       "      <th>Notice Preference Definition</th>\n",
       "      <th>Provided Email Address</th>\n",
       "      <th>Year Patron Registered</th>\n",
       "      <th>Within San Francisco County</th>\n",
       "    </tr>\n",
       "  </thead>\n",
       "  <tbody>\n",
       "    <tr>\n",
       "      <th>33</th>\n",
       "      <td>16</td>\n",
       "      <td>Digital Access Card</td>\n",
       "      <td>0</td>\n",
       "      <td>0</td>\n",
       "      <td>75 years and over</td>\n",
       "      <td>a5</td>\n",
       "      <td>Anza</td>\n",
       "      <td>Mar</td>\n",
       "      <td>2022.0</td>\n",
       "      <td>NaN</td>\n",
       "      <td>NaN</td>\n",
       "      <td>False</td>\n",
       "      <td>2022</td>\n",
       "      <td>False</td>\n",
       "    </tr>\n",
       "    <tr>\n",
       "      <th>35</th>\n",
       "      <td>16</td>\n",
       "      <td>Digital Access Card</td>\n",
       "      <td>0</td>\n",
       "      <td>0</td>\n",
       "      <td>10 to 19 years</td>\n",
       "      <td>x</td>\n",
       "      <td>Main</td>\n",
       "      <td>Aug</td>\n",
       "      <td>2021.0</td>\n",
       "      <td>z</td>\n",
       "      <td>Email</td>\n",
       "      <td>True</td>\n",
       "      <td>2021</td>\n",
       "      <td>False</td>\n",
       "    </tr>\n",
       "    <tr>\n",
       "      <th>39</th>\n",
       "      <td>1</td>\n",
       "      <td>Juvenile</td>\n",
       "      <td>108</td>\n",
       "      <td>108</td>\n",
       "      <td>0 to 9 years</td>\n",
       "      <td>o7</td>\n",
       "      <td>Ortega</td>\n",
       "      <td>Jul</td>\n",
       "      <td>2023.0</td>\n",
       "      <td>z</td>\n",
       "      <td>Email</td>\n",
       "      <td>True</td>\n",
       "      <td>2021</td>\n",
       "      <td>False</td>\n",
       "    </tr>\n",
       "    <tr>\n",
       "      <th>43</th>\n",
       "      <td>3</td>\n",
       "      <td>Senior</td>\n",
       "      <td>1</td>\n",
       "      <td>0</td>\n",
       "      <td>75 years and over</td>\n",
       "      <td>x</td>\n",
       "      <td>Main</td>\n",
       "      <td>Aug</td>\n",
       "      <td>2019.0</td>\n",
       "      <td>z</td>\n",
       "      <td>Email</td>\n",
       "      <td>True</td>\n",
       "      <td>2019</td>\n",
       "      <td>False</td>\n",
       "    </tr>\n",
       "    <tr>\n",
       "      <th>45</th>\n",
       "      <td>1</td>\n",
       "      <td>Juvenile</td>\n",
       "      <td>0</td>\n",
       "      <td>0</td>\n",
       "      <td>0 to 9 years</td>\n",
       "      <td>x</td>\n",
       "      <td>Main</td>\n",
       "      <td>NaN</td>\n",
       "      <td>NaN</td>\n",
       "      <td>z</td>\n",
       "      <td>Email</td>\n",
       "      <td>True</td>\n",
       "      <td>2021</td>\n",
       "      <td>False</td>\n",
       "    </tr>\n",
       "    <tr>\n",
       "      <th>...</th>\n",
       "      <td>...</td>\n",
       "      <td>...</td>\n",
       "      <td>...</td>\n",
       "      <td>...</td>\n",
       "      <td>...</td>\n",
       "      <td>...</td>\n",
       "      <td>...</td>\n",
       "      <td>...</td>\n",
       "      <td>...</td>\n",
       "      <td>...</td>\n",
       "      <td>...</td>\n",
       "      <td>...</td>\n",
       "      <td>...</td>\n",
       "      <td>...</td>\n",
       "    </tr>\n",
       "    <tr>\n",
       "      <th>436275</th>\n",
       "      <td>2</td>\n",
       "      <td>Teen</td>\n",
       "      <td>0</td>\n",
       "      <td>0</td>\n",
       "      <td>10 to 19 years</td>\n",
       "      <td>x</td>\n",
       "      <td>Main</td>\n",
       "      <td>NaN</td>\n",
       "      <td>NaN</td>\n",
       "      <td>NaN</td>\n",
       "      <td>NaN</td>\n",
       "      <td>False</td>\n",
       "      <td>2023</td>\n",
       "      <td>NaN</td>\n",
       "    </tr>\n",
       "    <tr>\n",
       "      <th>436279</th>\n",
       "      <td>4</td>\n",
       "      <td>Welcome</td>\n",
       "      <td>0</td>\n",
       "      <td>0</td>\n",
       "      <td>65 to 74 years</td>\n",
       "      <td>x</td>\n",
       "      <td>Main</td>\n",
       "      <td>Jul</td>\n",
       "      <td>2022.0</td>\n",
       "      <td>NaN</td>\n",
       "      <td>NaN</td>\n",
       "      <td>False</td>\n",
       "      <td>2022</td>\n",
       "      <td>NaN</td>\n",
       "    </tr>\n",
       "    <tr>\n",
       "      <th>436281</th>\n",
       "      <td>1</td>\n",
       "      <td>Juvenile</td>\n",
       "      <td>1</td>\n",
       "      <td>1</td>\n",
       "      <td>0 to 9 years</td>\n",
       "      <td>x</td>\n",
       "      <td>Main</td>\n",
       "      <td>Jul</td>\n",
       "      <td>2023.0</td>\n",
       "      <td>NaN</td>\n",
       "      <td>NaN</td>\n",
       "      <td>False</td>\n",
       "      <td>2023</td>\n",
       "      <td>NaN</td>\n",
       "    </tr>\n",
       "    <tr>\n",
       "      <th>436286</th>\n",
       "      <td>2</td>\n",
       "      <td>Teen</td>\n",
       "      <td>3</td>\n",
       "      <td>0</td>\n",
       "      <td>10 to 19 years</td>\n",
       "      <td>yjj</td>\n",
       "      <td>Bookmobile</td>\n",
       "      <td>Nov</td>\n",
       "      <td>2015.0</td>\n",
       "      <td>z</td>\n",
       "      <td>Email</td>\n",
       "      <td>True</td>\n",
       "      <td>2011</td>\n",
       "      <td>NaN</td>\n",
       "    </tr>\n",
       "    <tr>\n",
       "      <th>436289</th>\n",
       "      <td>55</td>\n",
       "      <td>Retired Staff</td>\n",
       "      <td>309</td>\n",
       "      <td>101</td>\n",
       "      <td>75 years and over</td>\n",
       "      <td>ylw</td>\n",
       "      <td>Bookmobile</td>\n",
       "      <td>Jul</td>\n",
       "      <td>2023.0</td>\n",
       "      <td>z</td>\n",
       "      <td>Email</td>\n",
       "      <td>True</td>\n",
       "      <td>2003</td>\n",
       "      <td>NaN</td>\n",
       "    </tr>\n",
       "  </tbody>\n",
       "</table>\n",
       "<p>150560 rows × 14 columns</p>\n",
       "</div>"
      ],
      "text/plain": [
       "        Patron Type Code Patron Type Definition  Total Checkouts  \\\n",
       "33                    16    Digital Access Card                0   \n",
       "35                    16    Digital Access Card                0   \n",
       "39                     1               Juvenile              108   \n",
       "43                     3                 Senior                1   \n",
       "45                     1               Juvenile                0   \n",
       "...                  ...                    ...              ...   \n",
       "436275                 2                   Teen                0   \n",
       "436279                 4                Welcome                0   \n",
       "436281                 1               Juvenile                1   \n",
       "436286                 2                   Teen                3   \n",
       "436289                55          Retired Staff              309   \n",
       "\n",
       "        Total Renewals          Age Range Home Library Code  \\\n",
       "33                   0  75 years and over                a5   \n",
       "35                   0     10 to 19 years                 x   \n",
       "39                 108       0 to 9 years                o7   \n",
       "43                   0  75 years and over                 x   \n",
       "45                   0       0 to 9 years                 x   \n",
       "...                ...                ...               ...   \n",
       "436275               0     10 to 19 years                 x   \n",
       "436279               0     65 to 74 years                 x   \n",
       "436281               1       0 to 9 years                 x   \n",
       "436286               0     10 to 19 years               yjj   \n",
       "436289             101  75 years and over               ylw   \n",
       "\n",
       "       Home Library Definition Circulation Active Month  \\\n",
       "33                        Anza                      Mar   \n",
       "35                        Main                      Aug   \n",
       "39                      Ortega                      Jul   \n",
       "43                        Main                      Aug   \n",
       "45                        Main                      NaN   \n",
       "...                        ...                      ...   \n",
       "436275                    Main                      NaN   \n",
       "436279                    Main                      Jul   \n",
       "436281                    Main                      Jul   \n",
       "436286              Bookmobile                      Nov   \n",
       "436289              Bookmobile                      Jul   \n",
       "\n",
       "        Circulation Active Year Notice Preference Code  \\\n",
       "33                       2022.0                    NaN   \n",
       "35                       2021.0                      z   \n",
       "39                       2023.0                      z   \n",
       "43                       2019.0                      z   \n",
       "45                          NaN                      z   \n",
       "...                         ...                    ...   \n",
       "436275                      NaN                    NaN   \n",
       "436279                   2022.0                    NaN   \n",
       "436281                   2023.0                    NaN   \n",
       "436286                   2015.0                      z   \n",
       "436289                   2023.0                      z   \n",
       "\n",
       "       Notice Preference Definition  Provided Email Address  \\\n",
       "33                              NaN                   False   \n",
       "35                            Email                    True   \n",
       "39                            Email                    True   \n",
       "43                            Email                    True   \n",
       "45                            Email                    True   \n",
       "...                             ...                     ...   \n",
       "436275                          NaN                   False   \n",
       "436279                          NaN                   False   \n",
       "436281                          NaN                   False   \n",
       "436286                        Email                    True   \n",
       "436289                        Email                    True   \n",
       "\n",
       "        Year Patron Registered Within San Francisco County  \n",
       "33                        2022                       False  \n",
       "35                        2021                       False  \n",
       "39                        2021                       False  \n",
       "43                        2019                       False  \n",
       "45                        2021                       False  \n",
       "...                        ...                         ...  \n",
       "436275                    2023                         NaN  \n",
       "436279                    2022                         NaN  \n",
       "436281                    2023                         NaN  \n",
       "436286                    2011                         NaN  \n",
       "436289                    2003                         NaN  \n",
       "\n",
       "[150560 rows x 14 columns]"
      ]
     },
     "execution_count": 13,
     "metadata": {},
     "output_type": "execute_result"
    }
   ],
   "source": [
    "filtered_df"
   ]
  },
  {
   "cell_type": "code",
   "execution_count": 14,
   "id": "5eba6302",
   "metadata": {},
   "outputs": [
    {
     "name": "stderr",
     "output_type": "stream",
     "text": [
      "/home/anni/anaconda3/lib/python3.11/site-packages/seaborn/axisgrid.py:118: UserWarning: The figure layout has changed to tight\n",
      "  self._figure.tight_layout(*args, **kwargs)\n"
     ]
    },
    {
     "data": {
      "text/plain": [
       "<seaborn.axisgrid.FacetGrid at 0x7f68ad380510>"
      ]
     },
     "execution_count": 14,
     "metadata": {},
     "output_type": "execute_result"
    },
    {
     "data": {
      "image/png": "[encoded data removed]",
      "text/plain": [
       "<Figure size 500x500 with 1 Axes>"
      ]
     },
     "metadata": {},
     "output_type": "display_data"
    }
   ],
   "source": [
    "sns.catplot(y='Age Range',\n",
    "            data=filtered_df, kind='count', color=\"steelblue\")"
   ]
  },
  {
   "cell_type": "code",
   "execution_count": 15,
   "id": "2df9d6bf",
   "metadata": {},
   "outputs": [],
   "source": [
    "# sns.set_style(\"whitegrid\")\n",
    "# plt.figure(figsize=(6,6))\n",
    "# plt.pie(data['Age Range'], labels=data['Age Range'], autopct='%1.1f%%')\n",
    "# plt.title('Altersverteilung insgesamt')\n",
    "# plt.show()\n",
    "\n",
    "# -> funktioniert nur mit float?"
   ]
  },
  {
   "cell_type": "markdown",
   "id": "bc6d519e",
   "metadata": {},
   "source": [
    "# Wie viele Senioren und Kinder sind Kunden der San Francisco Public Library?\n",
    "\n",
    "## 150560 Senioren und Kinder insgesamt. 99549 Kinder (0-19),  51011 Senioren (älter als 65)\n",
    "## Alterstruktur insgesamt:\n",
    "\n"
   ]
  },
  {
   "cell_type": "code",
   "execution_count": 16,
   "id": "5b82fca9",
   "metadata": {},
   "outputs": [],
   "source": [
    "age_order = ['0 to 9 years', '10 to 19 years', '20 to 24 years', '25 to 34 years', '35 to 44 years', '45 to 54 years', '55 to 59 years', '60 to 64 years', '65 to 74 years', '75 years and over']\n"
   ]
  },
  {
   "cell_type": "code",
   "execution_count": 17,
   "id": "264b899a",
   "metadata": {},
   "outputs": [
    {
     "name": "stderr",
     "output_type": "stream",
     "text": [
      "/home/anni/anaconda3/lib/python3.11/site-packages/seaborn/axisgrid.py:118: UserWarning: The figure layout has changed to tight\n",
      "  self._figure.tight_layout(*args, **kwargs)\n"
     ]
    },
    {
     "data": {
      "text/plain": [
       "<seaborn.axisgrid.FacetGrid at 0x7f68a8eb4a90>"
      ]
     },
     "execution_count": 17,
     "metadata": {},
     "output_type": "execute_result"
    },
    {
     "data": {
      "image/png": "[encoded data removed]",
      "text/plain": [
       "<Figure size 500x500 with 1 Axes>"
      ]
     },
     "metadata": {},
     "output_type": "display_data"
    }
   ],
   "source": [
    "sns.catplot(y='Age Range',\n",
    "            data=data, kind='count', color=\"darkgreen\", order=age_order)"
   ]
  },
  {
   "cell_type": "code",
   "execution_count": 18,
   "id": "990568d4",
   "metadata": {},
   "outputs": [],
   "source": [
    "child_filter = (data['Age Range'].isin(['0 to 9 years', '10 to 19 years']))"
   ]
  },
  {
   "cell_type": "code",
   "execution_count": 19,
   "id": "da6f1a2d",
   "metadata": {},
   "outputs": [],
   "source": [
    "senior_filter = (data['Age Range'].isin(['65 to 74 years', '75 years and over']))"
   ]
  },
  {
   "cell_type": "code",
   "execution_count": 20,
   "id": "35a0765b",
   "metadata": {},
   "outputs": [
    {
     "data": {
      "text/plain": [
       "99549"
      ]
     },
     "execution_count": 20,
     "metadata": {},
     "output_type": "execute_result"
    }
   ],
   "source": [
    "len(data.loc[child_filter])"
   ]
  },
  {
   "cell_type": "code",
   "execution_count": 21,
   "id": "933d4a93",
   "metadata": {},
   "outputs": [
    {
     "data": {
      "text/plain": [
       "51011"
      ]
     },
     "execution_count": 21,
     "metadata": {},
     "output_type": "execute_result"
    }
   ],
   "source": [
    "len(data.loc[senior_filter])"
   ]
  },
  {
   "cell_type": "code",
   "execution_count": 22,
   "id": "f0c4f2f5",
   "metadata": {},
   "outputs": [
    {
     "data": {
      "text/plain": [
       "150560"
      ]
     },
     "execution_count": 22,
     "metadata": {},
     "output_type": "execute_result"
    }
   ],
   "source": [
    "len(data.loc[child_filter]) + len(data.loc[senior_filter])"
   ]
  },
  {
   "cell_type": "markdown",
   "id": "4058efd8",
   "metadata": {},
   "source": [
    "# Wie viele Nutzer möchten per Mail informiert werden?"
   ]
  },
  {
   "cell_type": "code",
   "execution_count": 23,
   "id": "a07eea5c",
   "metadata": {},
   "outputs": [
    {
     "data": {
      "text/plain": [
       "393301"
      ]
     },
     "execution_count": 23,
     "metadata": {},
     "output_type": "execute_result"
    }
   ],
   "source": [
    "len(data.loc[(data['Notice Preference Definition'] == \"Email\")])"
   ]
  },
  {
   "cell_type": "code",
   "execution_count": 24,
   "id": "dea3f806",
   "metadata": {},
   "outputs": [
    {
     "name": "stdout",
     "output_type": "stream",
     "text": [
      "Es möchten 393301 Nutzende per Mail informiert werden.\n"
     ]
    }
   ],
   "source": [
    "print('Es möchten ' + str(len(data.loc[data['Notice Preference Definition'] == \"Email\"])) + \" Nutzende per Mail informiert werden.\")\n"
   ]
  },
  {
   "cell_type": "markdown",
   "id": "1b95d671",
   "metadata": {},
   "source": [
    "# Wie alt sind diese Nutzer durchschnittlich im Vergleich zu Nutzern, die per Post informiert werden möchten?"
   ]
  },
  {
   "cell_type": "code",
   "execution_count": 25,
   "id": "3e67c768",
   "metadata": {},
   "outputs": [
    {
     "data": {
      "text/plain": [
       "Age Range\n",
       "25 to 34 years       0.212847\n",
       "35 to 44 years       0.187697\n",
       "10 to 19 years       0.153561\n",
       "45 to 54 years       0.110982\n",
       "0 to 9 years         0.075089\n",
       "65 to 74 years       0.072842\n",
       "20 to 24 years       0.058296\n",
       "75 years and over    0.044322\n",
       "55 to 59 years       0.043815\n",
       "60 to 64 years       0.040549\n",
       "Name: proportion, dtype: float64"
      ]
     },
     "execution_count": 25,
     "metadata": {},
     "output_type": "execute_result"
    }
   ],
   "source": [
    "data['Age Range'].value_counts(normalize=True)"
   ]
  },
  {
   "cell_type": "code",
   "execution_count": 26,
   "id": "98bc60f5",
   "metadata": {},
   "outputs": [
    {
     "data": {
      "text/plain": [
       "Notice Preference Definition\n",
       "Email    393301\n",
       "Name: count, dtype: int64"
      ]
     },
     "execution_count": 26,
     "metadata": {},
     "output_type": "execute_result"
    }
   ],
   "source": [
    "data['Notice Preference Definition'].value_counts()"
   ]
  },
  {
   "cell_type": "code",
   "execution_count": 27,
   "id": "957bd8e1",
   "metadata": {},
   "outputs": [
    {
     "data": {
      "text/plain": [
       "0         Email\n",
       "1         Email\n",
       "2         Email\n",
       "3         Email\n",
       "4         Email\n",
       "          ...  \n",
       "436285    Email\n",
       "436286    Email\n",
       "436287    Email\n",
       "436288    Email\n",
       "436289    Email\n",
       "Name: Notice Preference Definition, Length: 436290, dtype: object"
      ]
     },
     "execution_count": 27,
     "metadata": {},
     "output_type": "execute_result"
    }
   ],
   "source": [
    "data['Notice Preference Definition']"
   ]
  },
  {
   "cell_type": "code",
   "execution_count": 28,
   "id": "e381459c",
   "metadata": {},
   "outputs": [
    {
     "data": {
      "text/plain": [
       "array(['Email', nan], dtype=object)"
      ]
     },
     "execution_count": 28,
     "metadata": {},
     "output_type": "execute_result"
    }
   ],
   "source": [
    "data['Notice Preference Definition'].unique()"
   ]
  },
  {
   "cell_type": "code",
   "execution_count": 29,
   "id": "5bea0eb2",
   "metadata": {},
   "outputs": [],
   "source": [
    "data.fillna(\"none\", inplace=True)"
   ]
  },
  {
   "cell_type": "code",
   "execution_count": 30,
   "id": "0434171c",
   "metadata": {},
   "outputs": [
    {
     "data": {
      "text/plain": [
       "Notice Preference Definition\n",
       "Email    393301\n",
       "none      42989\n",
       "Name: count, dtype: int64"
      ]
     },
     "execution_count": 30,
     "metadata": {},
     "output_type": "execute_result"
    }
   ],
   "source": [
    "data['Notice Preference Definition'].value_counts()"
   ]
  },
  {
   "cell_type": "code",
   "execution_count": 31,
   "id": "3ec57c4d",
   "metadata": {},
   "outputs": [
    {
     "data": {
      "text/html": [
       "<div>\n",
       "<style scoped>\n",
       "    .dataframe tbody tr th:only-of-type {\n",
       "        vertical-align: middle;\n",
       "    }\n",
       "\n",
       "    .dataframe tbody tr th {\n",
       "        vertical-align: top;\n",
       "    }\n",
       "\n",
       "    .dataframe thead th {\n",
       "        text-align: right;\n",
       "    }\n",
       "</style>\n",
       "<table border=\"1\" class=\"dataframe\">\n",
       "  <thead>\n",
       "    <tr style=\"text-align: right;\">\n",
       "      <th>Age Range</th>\n",
       "      <th>0 to 9 years</th>\n",
       "      <th>10 to 19 years</th>\n",
       "      <th>20 to 24 years</th>\n",
       "      <th>25 to 34 years</th>\n",
       "      <th>35 to 44 years</th>\n",
       "      <th>45 to 54 years</th>\n",
       "      <th>55 to 59 years</th>\n",
       "      <th>60 to 64 years</th>\n",
       "      <th>65 to 74 years</th>\n",
       "      <th>75 years and over</th>\n",
       "      <th>none</th>\n",
       "      <th>All</th>\n",
       "    </tr>\n",
       "    <tr>\n",
       "      <th>Notice Preference Definition</th>\n",
       "      <th></th>\n",
       "      <th></th>\n",
       "      <th></th>\n",
       "      <th></th>\n",
       "      <th></th>\n",
       "      <th></th>\n",
       "      <th></th>\n",
       "      <th></th>\n",
       "      <th></th>\n",
       "      <th></th>\n",
       "      <th></th>\n",
       "      <th></th>\n",
       "    </tr>\n",
       "  </thead>\n",
       "  <tbody>\n",
       "    <tr>\n",
       "      <th>Email</th>\n",
       "      <td>28740</td>\n",
       "      <td>54936</td>\n",
       "      <td>22701</td>\n",
       "      <td>88200</td>\n",
       "      <td>77618</td>\n",
       "      <td>45165</td>\n",
       "      <td>17336</td>\n",
       "      <td>15539</td>\n",
       "      <td>27170</td>\n",
       "      <td>15069</td>\n",
       "      <td>827</td>\n",
       "      <td>393301</td>\n",
       "    </tr>\n",
       "    <tr>\n",
       "      <th>none</th>\n",
       "      <td>3952</td>\n",
       "      <td>11921</td>\n",
       "      <td>2680</td>\n",
       "      <td>4469</td>\n",
       "      <td>4101</td>\n",
       "      <td>3154</td>\n",
       "      <td>1740</td>\n",
       "      <td>2115</td>\n",
       "      <td>4544</td>\n",
       "      <td>4228</td>\n",
       "      <td>85</td>\n",
       "      <td>42989</td>\n",
       "    </tr>\n",
       "    <tr>\n",
       "      <th>All</th>\n",
       "      <td>32692</td>\n",
       "      <td>66857</td>\n",
       "      <td>25381</td>\n",
       "      <td>92669</td>\n",
       "      <td>81719</td>\n",
       "      <td>48319</td>\n",
       "      <td>19076</td>\n",
       "      <td>17654</td>\n",
       "      <td>31714</td>\n",
       "      <td>19297</td>\n",
       "      <td>912</td>\n",
       "      <td>436290</td>\n",
       "    </tr>\n",
       "  </tbody>\n",
       "</table>\n",
       "</div>"
      ],
      "text/plain": [
       "Age Range                     0 to 9 years  10 to 19 years  20 to 24 years  \\\n",
       "Notice Preference Definition                                                 \n",
       "Email                                28740           54936           22701   \n",
       "none                                  3952           11921            2680   \n",
       "All                                  32692           66857           25381   \n",
       "\n",
       "Age Range                     25 to 34 years  35 to 44 years  45 to 54 years  \\\n",
       "Notice Preference Definition                                                   \n",
       "Email                                  88200           77618           45165   \n",
       "none                                    4469            4101            3154   \n",
       "All                                    92669           81719           48319   \n",
       "\n",
       "Age Range                     55 to 59 years  60 to 64 years  65 to 74 years  \\\n",
       "Notice Preference Definition                                                   \n",
       "Email                                  17336           15539           27170   \n",
       "none                                    1740            2115            4544   \n",
       "All                                    19076           17654           31714   \n",
       "\n",
       "Age Range                     75 years and over  none     All  \n",
       "Notice Preference Definition                                   \n",
       "Email                                     15069   827  393301  \n",
       "none                                       4228    85   42989  \n",
       "All                                       19297   912  436290  "
      ]
     },
     "execution_count": 31,
     "metadata": {},
     "output_type": "execute_result"
    }
   ],
   "source": [
    "pd.crosstab(\n",
    "    data['Notice Preference Definition'],\n",
    "    data['Age Range'],\n",
    "    margins=True\n",
    ")"
   ]
  },
  {
   "cell_type": "code",
   "execution_count": 32,
   "id": "d7f9c7e9",
   "metadata": {},
   "outputs": [
    {
     "data": {
      "text/html": [
       "<div>\n",
       "<style scoped>\n",
       "    .dataframe tbody tr th:only-of-type {\n",
       "        vertical-align: middle;\n",
       "    }\n",
       "\n",
       "    .dataframe tbody tr th {\n",
       "        vertical-align: top;\n",
       "    }\n",
       "\n",
       "    .dataframe thead th {\n",
       "        text-align: right;\n",
       "    }\n",
       "</style>\n",
       "<table border=\"1\" class=\"dataframe\">\n",
       "  <thead>\n",
       "    <tr style=\"text-align: right;\">\n",
       "      <th>Age Range</th>\n",
       "      <th>0 to 9 years</th>\n",
       "      <th>10 to 19 years</th>\n",
       "      <th>20 to 24 years</th>\n",
       "      <th>25 to 34 years</th>\n",
       "      <th>35 to 44 years</th>\n",
       "      <th>45 to 54 years</th>\n",
       "      <th>55 to 59 years</th>\n",
       "      <th>60 to 64 years</th>\n",
       "      <th>65 to 74 years</th>\n",
       "      <th>75 years and over</th>\n",
       "      <th>none</th>\n",
       "      <th>All</th>\n",
       "    </tr>\n",
       "    <tr>\n",
       "      <th>Notice Preference Definition</th>\n",
       "      <th></th>\n",
       "      <th></th>\n",
       "      <th></th>\n",
       "      <th></th>\n",
       "      <th></th>\n",
       "      <th></th>\n",
       "      <th></th>\n",
       "      <th></th>\n",
       "      <th></th>\n",
       "      <th></th>\n",
       "      <th></th>\n",
       "      <th></th>\n",
       "    </tr>\n",
       "  </thead>\n",
       "  <tbody>\n",
       "    <tr>\n",
       "      <th>Email</th>\n",
       "      <td>0.879114</td>\n",
       "      <td>0.821694</td>\n",
       "      <td>0.894409</td>\n",
       "      <td>0.951775</td>\n",
       "      <td>0.949816</td>\n",
       "      <td>0.934725</td>\n",
       "      <td>0.908786</td>\n",
       "      <td>0.880197</td>\n",
       "      <td>0.856719</td>\n",
       "      <td>0.780899</td>\n",
       "      <td>0.906798</td>\n",
       "      <td>0.901467</td>\n",
       "    </tr>\n",
       "    <tr>\n",
       "      <th>none</th>\n",
       "      <td>0.120886</td>\n",
       "      <td>0.178306</td>\n",
       "      <td>0.105591</td>\n",
       "      <td>0.048225</td>\n",
       "      <td>0.050184</td>\n",
       "      <td>0.065275</td>\n",
       "      <td>0.091214</td>\n",
       "      <td>0.119803</td>\n",
       "      <td>0.143281</td>\n",
       "      <td>0.219101</td>\n",
       "      <td>0.093202</td>\n",
       "      <td>0.098533</td>\n",
       "    </tr>\n",
       "  </tbody>\n",
       "</table>\n",
       "</div>"
      ],
      "text/plain": [
       "Age Range                     0 to 9 years  10 to 19 years  20 to 24 years  \\\n",
       "Notice Preference Definition                                                 \n",
       "Email                             0.879114        0.821694        0.894409   \n",
       "none                              0.120886        0.178306        0.105591   \n",
       "\n",
       "Age Range                     25 to 34 years  35 to 44 years  45 to 54 years  \\\n",
       "Notice Preference Definition                                                   \n",
       "Email                               0.951775        0.949816        0.934725   \n",
       "none                                0.048225        0.050184        0.065275   \n",
       "\n",
       "Age Range                     55 to 59 years  60 to 64 years  65 to 74 years  \\\n",
       "Notice Preference Definition                                                   \n",
       "Email                               0.908786        0.880197        0.856719   \n",
       "none                                0.091214        0.119803        0.143281   \n",
       "\n",
       "Age Range                     75 years and over      none       All  \n",
       "Notice Preference Definition                                         \n",
       "Email                                  0.780899  0.906798  0.901467  \n",
       "none                                   0.219101  0.093202  0.098533  "
      ]
     },
     "execution_count": 32,
     "metadata": {},
     "output_type": "execute_result"
    }
   ],
   "source": [
    "pd.crosstab(\n",
    "    data['Notice Preference Definition'],\n",
    "    data['Age Range'],\n",
    "    margins=True, normalize=1\n",
    ")"
   ]
  },
  {
   "cell_type": "code",
   "execution_count": 33,
   "id": "64b37eb5",
   "metadata": {},
   "outputs": [
    {
     "data": {
      "text/html": [
       "<div>\n",
       "<style scoped>\n",
       "    .dataframe tbody tr th:only-of-type {\n",
       "        vertical-align: middle;\n",
       "    }\n",
       "\n",
       "    .dataframe tbody tr th {\n",
       "        vertical-align: top;\n",
       "    }\n",
       "\n",
       "    .dataframe thead th {\n",
       "        text-align: right;\n",
       "    }\n",
       "</style>\n",
       "<table border=\"1\" class=\"dataframe\">\n",
       "  <thead>\n",
       "    <tr style=\"text-align: right;\">\n",
       "      <th>Age Range</th>\n",
       "      <th>0 to 9 years</th>\n",
       "      <th>10 to 19 years</th>\n",
       "      <th>20 to 24 years</th>\n",
       "      <th>25 to 34 years</th>\n",
       "      <th>35 to 44 years</th>\n",
       "      <th>45 to 54 years</th>\n",
       "      <th>55 to 59 years</th>\n",
       "      <th>60 to 64 years</th>\n",
       "      <th>65 to 74 years</th>\n",
       "      <th>75 years and over</th>\n",
       "      <th>none</th>\n",
       "    </tr>\n",
       "    <tr>\n",
       "      <th>Notice Preference Definition</th>\n",
       "      <th></th>\n",
       "      <th></th>\n",
       "      <th></th>\n",
       "      <th></th>\n",
       "      <th></th>\n",
       "      <th></th>\n",
       "      <th></th>\n",
       "      <th></th>\n",
       "      <th></th>\n",
       "      <th></th>\n",
       "      <th></th>\n",
       "    </tr>\n",
       "  </thead>\n",
       "  <tbody>\n",
       "    <tr>\n",
       "      <th>Email</th>\n",
       "      <td>0.073074</td>\n",
       "      <td>0.139679</td>\n",
       "      <td>0.057719</td>\n",
       "      <td>0.224256</td>\n",
       "      <td>0.197350</td>\n",
       "      <td>0.114836</td>\n",
       "      <td>0.044078</td>\n",
       "      <td>0.039509</td>\n",
       "      <td>0.069082</td>\n",
       "      <td>0.038314</td>\n",
       "      <td>0.002103</td>\n",
       "    </tr>\n",
       "    <tr>\n",
       "      <th>none</th>\n",
       "      <td>0.091930</td>\n",
       "      <td>0.277303</td>\n",
       "      <td>0.062342</td>\n",
       "      <td>0.103957</td>\n",
       "      <td>0.095396</td>\n",
       "      <td>0.073368</td>\n",
       "      <td>0.040475</td>\n",
       "      <td>0.049199</td>\n",
       "      <td>0.105701</td>\n",
       "      <td>0.098351</td>\n",
       "      <td>0.001977</td>\n",
       "    </tr>\n",
       "    <tr>\n",
       "      <th>All</th>\n",
       "      <td>0.074932</td>\n",
       "      <td>0.153240</td>\n",
       "      <td>0.058175</td>\n",
       "      <td>0.212402</td>\n",
       "      <td>0.187304</td>\n",
       "      <td>0.110750</td>\n",
       "      <td>0.043723</td>\n",
       "      <td>0.040464</td>\n",
       "      <td>0.072690</td>\n",
       "      <td>0.044230</td>\n",
       "      <td>0.002090</td>\n",
       "    </tr>\n",
       "  </tbody>\n",
       "</table>\n",
       "</div>"
      ],
      "text/plain": [
       "Age Range                     0 to 9 years  10 to 19 years  20 to 24 years  \\\n",
       "Notice Preference Definition                                                 \n",
       "Email                             0.073074        0.139679        0.057719   \n",
       "none                              0.091930        0.277303        0.062342   \n",
       "All                               0.074932        0.153240        0.058175   \n",
       "\n",
       "Age Range                     25 to 34 years  35 to 44 years  45 to 54 years  \\\n",
       "Notice Preference Definition                                                   \n",
       "Email                               0.224256        0.197350        0.114836   \n",
       "none                                0.103957        0.095396        0.073368   \n",
       "All                                 0.212402        0.187304        0.110750   \n",
       "\n",
       "Age Range                     55 to 59 years  60 to 64 years  65 to 74 years  \\\n",
       "Notice Preference Definition                                                   \n",
       "Email                               0.044078        0.039509        0.069082   \n",
       "none                                0.040475        0.049199        0.105701   \n",
       "All                                 0.043723        0.040464        0.072690   \n",
       "\n",
       "Age Range                     75 years and over      none  \n",
       "Notice Preference Definition                               \n",
       "Email                                  0.038314  0.002103  \n",
       "none                                   0.098351  0.001977  \n",
       "All                                    0.044230  0.002090  "
      ]
     },
     "execution_count": 33,
     "metadata": {},
     "output_type": "execute_result"
    }
   ],
   "source": [
    "pd.crosstab(\n",
    "    data['Notice Preference Definition'],\n",
    "    data['Age Range'],\n",
    "    margins=True, normalize=0\n",
    ")"
   ]
  },
  {
   "cell_type": "code",
   "execution_count": 34,
   "id": "ef170e18",
   "metadata": {},
   "outputs": [],
   "source": [
    "# Von allen Nutzenden, die per Mail informiert werden wollen, sind die meisten zw. 25 - 34 (22%) und 35 - 44 (19%)"
   ]
  },
  {
   "cell_type": "code",
   "execution_count": 35,
   "id": "a7a55477",
   "metadata": {},
   "outputs": [
    {
     "name": "stdout",
     "output_type": "stream",
     "text": [
      "Die Nutzenden, die per E-Mail informiert werden wollen, sind durchschnittlich 34.5 Jahre alt\n"
     ]
    }
   ],
   "source": [
    "ages = list(range(25, 45))  \n",
    "\n",
    "average_age = sum(ages) / len(ages)\n",
    "\n",
    "print(\"Die Nutzenden, die per E-Mail informiert werden wollen, sind durchschnittlich \" + str(average_age) + \" Jahre alt\")\n",
    "\n"
   ]
  },
  {
   "cell_type": "markdown",
   "id": "6b3e73a3",
   "metadata": {},
   "source": [
    "## Wie viele Ausleihen werden im Mittel pro Altersgruppe und pro Jahr getätigt? Ist die Streuung zwischen den Gruppen gleich?"
   ]
  },
  {
   "cell_type": "code",
   "execution_count": 36,
   "id": "9ba43f1c",
   "metadata": {},
   "outputs": [],
   "source": [
    "data['Circulation Active Year'] = pd.to_numeric(data['Circulation Active Year'], errors='coerce')\n"
   ]
  },
  {
   "cell_type": "code",
   "execution_count": 37,
   "id": "9d7aa72c",
   "metadata": {},
   "outputs": [],
   "source": [
    "data['Membership Duration Years'] = (data['Circulation Active Year'] - data['Year Patron Registered'])+1 \n"
   ]
  },
  {
   "cell_type": "code",
   "execution_count": 38,
   "id": "3cc2e31b",
   "metadata": {},
   "outputs": [],
   "source": [
    "data['Average Checkouts per Year'] =(data['Total Checkouts']/data['Membership Duration Years'])"
   ]
  },
  {
   "cell_type": "code",
   "execution_count": 39,
   "id": "48a95fc8",
   "metadata": {},
   "outputs": [],
   "source": [
    "checkout_data = data['Average Checkouts per Year']"
   ]
  },
  {
   "cell_type": "code",
   "execution_count": 40,
   "id": "f47a7b3e",
   "metadata": {},
   "outputs": [
    {
     "name": "stdout",
     "output_type": "stream",
     "text": [
      "0           2.523810\n",
      "1          22.857143\n",
      "2           5.384615\n",
      "3         187.333333\n",
      "4          53.238095\n",
      "             ...    \n",
      "436285      0.666667\n",
      "436286      0.600000\n",
      "436287      6.000000\n",
      "436288      2.000000\n",
      "436289     14.714286\n",
      "Name: Average Checkouts per Year, Length: 436290, dtype: float64\n"
     ]
    }
   ],
   "source": [
    "print(checkout_data)"
   ]
  },
  {
   "cell_type": "code",
   "execution_count": 41,
   "id": "de6df9c4",
   "metadata": {},
   "outputs": [
    {
     "name": "stdout",
     "output_type": "stream",
     "text": [
      "Is it a Pandas Series: True\n",
      "Is it a NumPy array: False\n"
     ]
    }
   ],
   "source": [
    "# Assuming 'data' is your DataFrame\n",
    "column_data = data['Average Checkouts per Year']\n",
    "\n",
    "# Check if it's a Pandas Series\n",
    "is_series = isinstance(column_data, pd.Series)\n",
    "print(\"Is it a Pandas Series:\", is_series)\n",
    "\n",
    "# Check if it's a NumPy array (Pandas Series are built on top of NumPy arrays)\n",
    "is_numpy_array = isinstance(column_data, np.ndarray)\n",
    "print(\"Is it a NumPy array:\", is_numpy_array)"
   ]
  },
  {
   "cell_type": "code",
   "execution_count": 42,
   "id": "115505b2",
   "metadata": {},
   "outputs": [
    {
     "name": "stdout",
     "output_type": "stream",
     "text": [
      "Is it a NumPy array: True\n"
     ]
    }
   ],
   "source": [
    "column_data = data['Average Checkouts per Year']\n",
    "\n",
    "# Convert Pandas Series to NumPy array\n",
    "numpy_array = column_data.values\n",
    "\n",
    "# Now check if it's a NumPy array\n",
    "is_numpy_array = isinstance(numpy_array, np.ndarray)\n",
    "print(\"Is it a NumPy array:\", is_numpy_array)"
   ]
  },
  {
   "cell_type": "code",
   "execution_count": 43,
   "id": "b7e69397",
   "metadata": {},
   "outputs": [
    {
     "ename": "ValueError",
     "evalue": "cannot convert float NaN to integer",
     "output_type": "error",
     "traceback": [
      "\u001b[0;31m---------------------------------------------------------------------------\u001b[0m",
      "\u001b[0;31mValueError\u001b[0m                                Traceback (most recent call last)",
      "Cell \u001b[0;32mIn[43], line 3\u001b[0m\n\u001b[1;32m      1\u001b[0m sns\u001b[38;5;241m.\u001b[39mset_style(\u001b[38;5;124m\"\u001b[39m\u001b[38;5;124mwhitegrid\u001b[39m\u001b[38;5;124m\"\u001b[39m)\n\u001b[1;32m      2\u001b[0m plt\u001b[38;5;241m.\u001b[39mfigure(figsize\u001b[38;5;241m=\u001b[39m(\u001b[38;5;241m6\u001b[39m,\u001b[38;5;241m6\u001b[39m))\n\u001b[0;32m----> 3\u001b[0m \u001b[43mplt\u001b[49m\u001b[38;5;241;43m.\u001b[39;49m\u001b[43mpie\u001b[49m\u001b[43m(\u001b[49m\u001b[43mdata\u001b[49m\u001b[43m[\u001b[49m\u001b[38;5;124;43m'\u001b[39;49m\u001b[38;5;124;43mAverage Checkouts per Year\u001b[39;49m\u001b[38;5;124;43m'\u001b[39;49m\u001b[43m]\u001b[49m\u001b[43m,\u001b[49m\u001b[43m \u001b[49m\u001b[43mlabels\u001b[49m\u001b[38;5;241;43m=\u001b[39;49m\u001b[43mdata\u001b[49m\u001b[43m[\u001b[49m\u001b[38;5;124;43m'\u001b[39;49m\u001b[38;5;124;43mAverage Checkouts per Year\u001b[39;49m\u001b[38;5;124;43m'\u001b[39;49m\u001b[43m]\u001b[49m\u001b[43m,\u001b[49m\u001b[43m \u001b[49m\u001b[43mautopct\u001b[49m\u001b[38;5;241;43m=\u001b[39;49m\u001b[38;5;124;43m'\u001b[39;49m\u001b[38;5;132;43;01m%1.1f\u001b[39;49;00m\u001b[38;5;132;43;01m%%\u001b[39;49;00m\u001b[38;5;124;43m'\u001b[39;49m\u001b[43m)\u001b[49m\n\u001b[1;32m      4\u001b[0m plt\u001b[38;5;241m.\u001b[39mtitle(\u001b[38;5;124m'\u001b[39m\u001b[38;5;124mCheckouts\u001b[39m\u001b[38;5;124m'\u001b[39m)\n\u001b[1;32m      5\u001b[0m plt\u001b[38;5;241m.\u001b[39mshow()\n",
      "File \u001b[0;32m~/anaconda3/lib/python3.11/site-packages/matplotlib/pyplot.py:2799\u001b[0m, in \u001b[0;36mpie\u001b[0;34m(x, explode, labels, colors, autopct, pctdistance, shadow, labeldistance, startangle, radius, counterclock, wedgeprops, textprops, center, frame, rotatelabels, normalize, hatch, data)\u001b[0m\n\u001b[1;32m   2792\u001b[0m \u001b[38;5;129m@_copy_docstring_and_deprecators\u001b[39m(Axes\u001b[38;5;241m.\u001b[39mpie)\n\u001b[1;32m   2793\u001b[0m \u001b[38;5;28;01mdef\u001b[39;00m \u001b[38;5;21mpie\u001b[39m(\n\u001b[1;32m   2794\u001b[0m         x, explode\u001b[38;5;241m=\u001b[39m\u001b[38;5;28;01mNone\u001b[39;00m, labels\u001b[38;5;241m=\u001b[39m\u001b[38;5;28;01mNone\u001b[39;00m, colors\u001b[38;5;241m=\u001b[39m\u001b[38;5;28;01mNone\u001b[39;00m, autopct\u001b[38;5;241m=\u001b[39m\u001b[38;5;28;01mNone\u001b[39;00m,\n\u001b[0;32m   (...)\u001b[0m\n\u001b[1;32m   2797\u001b[0m         textprops\u001b[38;5;241m=\u001b[39m\u001b[38;5;28;01mNone\u001b[39;00m, center\u001b[38;5;241m=\u001b[39m(\u001b[38;5;241m0\u001b[39m, \u001b[38;5;241m0\u001b[39m), frame\u001b[38;5;241m=\u001b[39m\u001b[38;5;28;01mFalse\u001b[39;00m,\n\u001b[1;32m   2798\u001b[0m         rotatelabels\u001b[38;5;241m=\u001b[39m\u001b[38;5;28;01mFalse\u001b[39;00m, \u001b[38;5;241m*\u001b[39m, normalize\u001b[38;5;241m=\u001b[39m\u001b[38;5;28;01mTrue\u001b[39;00m, hatch\u001b[38;5;241m=\u001b[39m\u001b[38;5;28;01mNone\u001b[39;00m, data\u001b[38;5;241m=\u001b[39m\u001b[38;5;28;01mNone\u001b[39;00m):\n\u001b[0;32m-> 2799\u001b[0m     \u001b[38;5;28;01mreturn\u001b[39;00m \u001b[43mgca\u001b[49m\u001b[43m(\u001b[49m\u001b[43m)\u001b[49m\u001b[38;5;241;43m.\u001b[39;49m\u001b[43mpie\u001b[49m\u001b[43m(\u001b[49m\n\u001b[1;32m   2800\u001b[0m \u001b[43m        \u001b[49m\u001b[43mx\u001b[49m\u001b[43m,\u001b[49m\u001b[43m \u001b[49m\u001b[43mexplode\u001b[49m\u001b[38;5;241;43m=\u001b[39;49m\u001b[43mexplode\u001b[49m\u001b[43m,\u001b[49m\u001b[43m \u001b[49m\u001b[43mlabels\u001b[49m\u001b[38;5;241;43m=\u001b[39;49m\u001b[43mlabels\u001b[49m\u001b[43m,\u001b[49m\u001b[43m \u001b[49m\u001b[43mcolors\u001b[49m\u001b[38;5;241;43m=\u001b[39;49m\u001b[43mcolors\u001b[49m\u001b[43m,\u001b[49m\n\u001b[1;32m   2801\u001b[0m \u001b[43m        \u001b[49m\u001b[43mautopct\u001b[49m\u001b[38;5;241;43m=\u001b[39;49m\u001b[43mautopct\u001b[49m\u001b[43m,\u001b[49m\u001b[43m \u001b[49m\u001b[43mpctdistance\u001b[49m\u001b[38;5;241;43m=\u001b[39;49m\u001b[43mpctdistance\u001b[49m\u001b[43m,\u001b[49m\u001b[43m \u001b[49m\u001b[43mshadow\u001b[49m\u001b[38;5;241;43m=\u001b[39;49m\u001b[43mshadow\u001b[49m\u001b[43m,\u001b[49m\n\u001b[1;32m   2802\u001b[0m \u001b[43m        \u001b[49m\u001b[43mlabeldistance\u001b[49m\u001b[38;5;241;43m=\u001b[39;49m\u001b[43mlabeldistance\u001b[49m\u001b[43m,\u001b[49m\u001b[43m \u001b[49m\u001b[43mstartangle\u001b[49m\u001b[38;5;241;43m=\u001b[39;49m\u001b[43mstartangle\u001b[49m\u001b[43m,\u001b[49m\n\u001b[1;32m   2803\u001b[0m \u001b[43m        \u001b[49m\u001b[43mradius\u001b[49m\u001b[38;5;241;43m=\u001b[39;49m\u001b[43mradius\u001b[49m\u001b[43m,\u001b[49m\u001b[43m \u001b[49m\u001b[43mcounterclock\u001b[49m\u001b[38;5;241;43m=\u001b[39;49m\u001b[43mcounterclock\u001b[49m\u001b[43m,\u001b[49m\n\u001b[1;32m   2804\u001b[0m \u001b[43m        \u001b[49m\u001b[43mwedgeprops\u001b[49m\u001b[38;5;241;43m=\u001b[39;49m\u001b[43mwedgeprops\u001b[49m\u001b[43m,\u001b[49m\u001b[43m \u001b[49m\u001b[43mtextprops\u001b[49m\u001b[38;5;241;43m=\u001b[39;49m\u001b[43mtextprops\u001b[49m\u001b[43m,\u001b[49m\u001b[43m \u001b[49m\u001b[43mcenter\u001b[49m\u001b[38;5;241;43m=\u001b[39;49m\u001b[43mcenter\u001b[49m\u001b[43m,\u001b[49m\n\u001b[1;32m   2805\u001b[0m \u001b[43m        \u001b[49m\u001b[43mframe\u001b[49m\u001b[38;5;241;43m=\u001b[39;49m\u001b[43mframe\u001b[49m\u001b[43m,\u001b[49m\u001b[43m \u001b[49m\u001b[43mrotatelabels\u001b[49m\u001b[38;5;241;43m=\u001b[39;49m\u001b[43mrotatelabels\u001b[49m\u001b[43m,\u001b[49m\u001b[43m \u001b[49m\u001b[43mnormalize\u001b[49m\u001b[38;5;241;43m=\u001b[39;49m\u001b[43mnormalize\u001b[49m\u001b[43m,\u001b[49m\n\u001b[1;32m   2806\u001b[0m \u001b[43m        \u001b[49m\u001b[43mhatch\u001b[49m\u001b[38;5;241;43m=\u001b[39;49m\u001b[43mhatch\u001b[49m\u001b[43m,\u001b[49m\u001b[43m \u001b[49m\u001b[38;5;241;43m*\u001b[39;49m\u001b[38;5;241;43m*\u001b[39;49m\u001b[43m(\u001b[49m\u001b[43m{\u001b[49m\u001b[38;5;124;43m\"\u001b[39;49m\u001b[38;5;124;43mdata\u001b[39;49m\u001b[38;5;124;43m\"\u001b[39;49m\u001b[43m:\u001b[49m\u001b[43m \u001b[49m\u001b[43mdata\u001b[49m\u001b[43m}\u001b[49m\u001b[43m \u001b[49m\u001b[38;5;28;43;01mif\u001b[39;49;00m\u001b[43m \u001b[49m\u001b[43mdata\u001b[49m\u001b[43m \u001b[49m\u001b[38;5;129;43;01mis\u001b[39;49;00m\u001b[43m \u001b[49m\u001b[38;5;129;43;01mnot\u001b[39;49;00m\u001b[43m \u001b[49m\u001b[38;5;28;43;01mNone\u001b[39;49;00m\u001b[43m \u001b[49m\u001b[38;5;28;43;01melse\u001b[39;49;00m\u001b[43m \u001b[49m\u001b[43m{\u001b[49m\u001b[43m}\u001b[49m\u001b[43m)\u001b[49m\u001b[43m)\u001b[49m\n",
      "File \u001b[0;32m~/anaconda3/lib/python3.11/site-packages/matplotlib/__init__.py:1446\u001b[0m, in \u001b[0;36m_preprocess_data.<locals>.inner\u001b[0;34m(ax, data, *args, **kwargs)\u001b[0m\n\u001b[1;32m   1443\u001b[0m \u001b[38;5;129m@functools\u001b[39m\u001b[38;5;241m.\u001b[39mwraps(func)\n\u001b[1;32m   1444\u001b[0m \u001b[38;5;28;01mdef\u001b[39;00m \u001b[38;5;21minner\u001b[39m(ax, \u001b[38;5;241m*\u001b[39margs, data\u001b[38;5;241m=\u001b[39m\u001b[38;5;28;01mNone\u001b[39;00m, \u001b[38;5;241m*\u001b[39m\u001b[38;5;241m*\u001b[39mkwargs):\n\u001b[1;32m   1445\u001b[0m     \u001b[38;5;28;01mif\u001b[39;00m data \u001b[38;5;129;01mis\u001b[39;00m \u001b[38;5;28;01mNone\u001b[39;00m:\n\u001b[0;32m-> 1446\u001b[0m         \u001b[38;5;28;01mreturn\u001b[39;00m \u001b[43mfunc\u001b[49m\u001b[43m(\u001b[49m\u001b[43max\u001b[49m\u001b[43m,\u001b[49m\u001b[43m \u001b[49m\u001b[38;5;241;43m*\u001b[39;49m\u001b[38;5;28;43mmap\u001b[39;49m\u001b[43m(\u001b[49m\u001b[43msanitize_sequence\u001b[49m\u001b[43m,\u001b[49m\u001b[43m \u001b[49m\u001b[43margs\u001b[49m\u001b[43m)\u001b[49m\u001b[43m,\u001b[49m\u001b[43m \u001b[49m\u001b[38;5;241;43m*\u001b[39;49m\u001b[38;5;241;43m*\u001b[39;49m\u001b[43mkwargs\u001b[49m\u001b[43m)\u001b[49m\n\u001b[1;32m   1448\u001b[0m     bound \u001b[38;5;241m=\u001b[39m new_sig\u001b[38;5;241m.\u001b[39mbind(ax, \u001b[38;5;241m*\u001b[39margs, \u001b[38;5;241m*\u001b[39m\u001b[38;5;241m*\u001b[39mkwargs)\n\u001b[1;32m   1449\u001b[0m     auto_label \u001b[38;5;241m=\u001b[39m (bound\u001b[38;5;241m.\u001b[39marguments\u001b[38;5;241m.\u001b[39mget(label_namer)\n\u001b[1;32m   1450\u001b[0m                   \u001b[38;5;129;01mor\u001b[39;00m bound\u001b[38;5;241m.\u001b[39mkwargs\u001b[38;5;241m.\u001b[39mget(label_namer))\n",
      "File \u001b[0;32m~/anaconda3/lib/python3.11/site-packages/matplotlib/axes/_axes.py:3237\u001b[0m, in \u001b[0;36mAxes.pie\u001b[0;34m(self, x, explode, labels, colors, autopct, pctdistance, shadow, labeldistance, startangle, radius, counterclock, wedgeprops, textprops, center, frame, rotatelabels, normalize, hatch)\u001b[0m\n\u001b[1;32m   3234\u001b[0m x \u001b[38;5;241m+\u001b[39m\u001b[38;5;241m=\u001b[39m expl \u001b[38;5;241m*\u001b[39m math\u001b[38;5;241m.\u001b[39mcos(thetam)\n\u001b[1;32m   3235\u001b[0m y \u001b[38;5;241m+\u001b[39m\u001b[38;5;241m=\u001b[39m expl \u001b[38;5;241m*\u001b[39m math\u001b[38;5;241m.\u001b[39msin(thetam)\n\u001b[0;32m-> 3237\u001b[0m w \u001b[38;5;241m=\u001b[39m \u001b[43mmpatches\u001b[49m\u001b[38;5;241;43m.\u001b[39;49m\u001b[43mWedge\u001b[49m\u001b[43m(\u001b[49m\u001b[43m(\u001b[49m\u001b[43mx\u001b[49m\u001b[43m,\u001b[49m\u001b[43m \u001b[49m\u001b[43my\u001b[49m\u001b[43m)\u001b[49m\u001b[43m,\u001b[49m\u001b[43m \u001b[49m\u001b[43mradius\u001b[49m\u001b[43m,\u001b[49m\u001b[43m \u001b[49m\u001b[38;5;241;43m360.\u001b[39;49m\u001b[43m \u001b[49m\u001b[38;5;241;43m*\u001b[39;49m\u001b[43m \u001b[49m\u001b[38;5;28;43mmin\u001b[39;49m\u001b[43m(\u001b[49m\u001b[43mtheta1\u001b[49m\u001b[43m,\u001b[49m\u001b[43m \u001b[49m\u001b[43mtheta2\u001b[49m\u001b[43m)\u001b[49m\u001b[43m,\u001b[49m\n\u001b[1;32m   3238\u001b[0m \u001b[43m                   \u001b[49m\u001b[38;5;241;43m360.\u001b[39;49m\u001b[43m \u001b[49m\u001b[38;5;241;43m*\u001b[39;49m\u001b[43m \u001b[49m\u001b[38;5;28;43mmax\u001b[39;49m\u001b[43m(\u001b[49m\u001b[43mtheta1\u001b[49m\u001b[43m,\u001b[49m\u001b[43m \u001b[49m\u001b[43mtheta2\u001b[49m\u001b[43m)\u001b[49m\u001b[43m,\u001b[49m\n\u001b[1;32m   3239\u001b[0m \u001b[43m                   \u001b[49m\u001b[43mfacecolor\u001b[49m\u001b[38;5;241;43m=\u001b[39;49m\u001b[43mget_next_color\u001b[49m\u001b[43m(\u001b[49m\u001b[43m)\u001b[49m\u001b[43m,\u001b[49m\n\u001b[1;32m   3240\u001b[0m \u001b[43m                   \u001b[49m\u001b[43mhatch\u001b[49m\u001b[38;5;241;43m=\u001b[39;49m\u001b[38;5;28;43mnext\u001b[39;49m\u001b[43m(\u001b[49m\u001b[43mhatch_cycle\u001b[49m\u001b[43m)\u001b[49m\u001b[43m,\u001b[49m\n\u001b[1;32m   3241\u001b[0m \u001b[43m                   \u001b[49m\u001b[43mclip_on\u001b[49m\u001b[38;5;241;43m=\u001b[39;49m\u001b[38;5;28;43;01mFalse\u001b[39;49;00m\u001b[43m,\u001b[49m\n\u001b[1;32m   3242\u001b[0m \u001b[43m                   \u001b[49m\u001b[43mlabel\u001b[49m\u001b[38;5;241;43m=\u001b[39;49m\u001b[43mlabel\u001b[49m\u001b[43m)\u001b[49m\n\u001b[1;32m   3243\u001b[0m w\u001b[38;5;241m.\u001b[39mset(\u001b[38;5;241m*\u001b[39m\u001b[38;5;241m*\u001b[39mwedgeprops)\n\u001b[1;32m   3244\u001b[0m slices\u001b[38;5;241m.\u001b[39mappend(w)\n",
      "File \u001b[0;32m~/anaconda3/lib/python3.11/site-packages/matplotlib/_api/deprecation.py:454\u001b[0m, in \u001b[0;36mmake_keyword_only.<locals>.wrapper\u001b[0;34m(*args, **kwargs)\u001b[0m\n\u001b[1;32m    448\u001b[0m \u001b[38;5;28;01mif\u001b[39;00m \u001b[38;5;28mlen\u001b[39m(args) \u001b[38;5;241m>\u001b[39m name_idx:\n\u001b[1;32m    449\u001b[0m     warn_deprecated(\n\u001b[1;32m    450\u001b[0m         since, message\u001b[38;5;241m=\u001b[39m\u001b[38;5;124m\"\u001b[39m\u001b[38;5;124mPassing the \u001b[39m\u001b[38;5;132;01m%(name)s\u001b[39;00m\u001b[38;5;124m \u001b[39m\u001b[38;5;132;01m%(obj_type)s\u001b[39;00m\u001b[38;5;124m \u001b[39m\u001b[38;5;124m\"\u001b[39m\n\u001b[1;32m    451\u001b[0m         \u001b[38;5;124m\"\u001b[39m\u001b[38;5;124mpositionally is deprecated since Matplotlib \u001b[39m\u001b[38;5;132;01m%(since)s\u001b[39;00m\u001b[38;5;124m; the \u001b[39m\u001b[38;5;124m\"\u001b[39m\n\u001b[1;32m    452\u001b[0m         \u001b[38;5;124m\"\u001b[39m\u001b[38;5;124mparameter will become keyword-only \u001b[39m\u001b[38;5;132;01m%(removal)s\u001b[39;00m\u001b[38;5;124m.\u001b[39m\u001b[38;5;124m\"\u001b[39m,\n\u001b[1;32m    453\u001b[0m         name\u001b[38;5;241m=\u001b[39mname, obj_type\u001b[38;5;241m=\u001b[39m\u001b[38;5;124mf\u001b[39m\u001b[38;5;124m\"\u001b[39m\u001b[38;5;124mparameter of \u001b[39m\u001b[38;5;132;01m{\u001b[39;00mfunc\u001b[38;5;241m.\u001b[39m\u001b[38;5;18m__name__\u001b[39m\u001b[38;5;132;01m}\u001b[39;00m\u001b[38;5;124m()\u001b[39m\u001b[38;5;124m\"\u001b[39m)\n\u001b[0;32m--> 454\u001b[0m \u001b[38;5;28;01mreturn\u001b[39;00m \u001b[43mfunc\u001b[49m\u001b[43m(\u001b[49m\u001b[38;5;241;43m*\u001b[39;49m\u001b[43margs\u001b[49m\u001b[43m,\u001b[49m\u001b[43m \u001b[49m\u001b[38;5;241;43m*\u001b[39;49m\u001b[38;5;241;43m*\u001b[39;49m\u001b[43mkwargs\u001b[49m\u001b[43m)\u001b[49m\n",
      "File \u001b[0;32m~/anaconda3/lib/python3.11/site-packages/matplotlib/patches.py:1195\u001b[0m, in \u001b[0;36mWedge.__init__\u001b[0;34m(self, center, r, theta1, theta2, width, **kwargs)\u001b[0m\n\u001b[1;32m   1193\u001b[0m \u001b[38;5;28mself\u001b[39m\u001b[38;5;241m.\u001b[39mtheta1, \u001b[38;5;28mself\u001b[39m\u001b[38;5;241m.\u001b[39mtheta2 \u001b[38;5;241m=\u001b[39m theta1, theta2\n\u001b[1;32m   1194\u001b[0m \u001b[38;5;28mself\u001b[39m\u001b[38;5;241m.\u001b[39m_patch_transform \u001b[38;5;241m=\u001b[39m transforms\u001b[38;5;241m.\u001b[39mIdentityTransform()\n\u001b[0;32m-> 1195\u001b[0m \u001b[38;5;28;43mself\u001b[39;49m\u001b[38;5;241;43m.\u001b[39;49m\u001b[43m_recompute_path\u001b[49m\u001b[43m(\u001b[49m\u001b[43m)\u001b[49m\n",
      "File \u001b[0;32m~/anaconda3/lib/python3.11/site-packages/matplotlib/patches.py:1207\u001b[0m, in \u001b[0;36mWedge._recompute_path\u001b[0;34m(self)\u001b[0m\n\u001b[1;32m   1204\u001b[0m     connector \u001b[38;5;241m=\u001b[39m Path\u001b[38;5;241m.\u001b[39mLINETO\n\u001b[1;32m   1206\u001b[0m \u001b[38;5;66;03m# Form the outer ring\u001b[39;00m\n\u001b[0;32m-> 1207\u001b[0m arc \u001b[38;5;241m=\u001b[39m \u001b[43mPath\u001b[49m\u001b[38;5;241;43m.\u001b[39;49m\u001b[43marc\u001b[49m\u001b[43m(\u001b[49m\u001b[43mtheta1\u001b[49m\u001b[43m,\u001b[49m\u001b[43m \u001b[49m\u001b[43mtheta2\u001b[49m\u001b[43m)\u001b[49m\n\u001b[1;32m   1209\u001b[0m \u001b[38;5;28;01mif\u001b[39;00m \u001b[38;5;28mself\u001b[39m\u001b[38;5;241m.\u001b[39mwidth \u001b[38;5;129;01mis\u001b[39;00m \u001b[38;5;129;01mnot\u001b[39;00m \u001b[38;5;28;01mNone\u001b[39;00m:\n\u001b[1;32m   1210\u001b[0m     \u001b[38;5;66;03m# Partial annulus needs to draw the outer ring\u001b[39;00m\n\u001b[1;32m   1211\u001b[0m     \u001b[38;5;66;03m# followed by a reversed and scaled inner ring\u001b[39;00m\n\u001b[1;32m   1212\u001b[0m     v1 \u001b[38;5;241m=\u001b[39m arc\u001b[38;5;241m.\u001b[39mvertices\n",
      "File \u001b[0;32m~/anaconda3/lib/python3.11/site-packages/matplotlib/path.py:954\u001b[0m, in \u001b[0;36mPath.arc\u001b[0;34m(cls, theta1, theta2, n, is_wedge)\u001b[0m\n\u001b[1;32m    952\u001b[0m \u001b[38;5;66;03m# number of curve segments to make\u001b[39;00m\n\u001b[1;32m    953\u001b[0m \u001b[38;5;28;01mif\u001b[39;00m n \u001b[38;5;129;01mis\u001b[39;00m \u001b[38;5;28;01mNone\u001b[39;00m:\n\u001b[0;32m--> 954\u001b[0m     n \u001b[38;5;241m=\u001b[39m \u001b[38;5;28;43mint\u001b[39;49m\u001b[43m(\u001b[49m\u001b[38;5;241;43m2\u001b[39;49m\u001b[43m \u001b[49m\u001b[38;5;241;43m*\u001b[39;49m\u001b[38;5;241;43m*\u001b[39;49m\u001b[43m \u001b[49m\u001b[43mnp\u001b[49m\u001b[38;5;241;43m.\u001b[39;49m\u001b[43mceil\u001b[49m\u001b[43m(\u001b[49m\u001b[43m(\u001b[49m\u001b[43meta2\u001b[49m\u001b[43m \u001b[49m\u001b[38;5;241;43m-\u001b[39;49m\u001b[43m \u001b[49m\u001b[43meta1\u001b[49m\u001b[43m)\u001b[49m\u001b[43m \u001b[49m\u001b[38;5;241;43m/\u001b[39;49m\u001b[43m \u001b[49m\u001b[43mhalfpi\u001b[49m\u001b[43m)\u001b[49m\u001b[43m)\u001b[49m\n\u001b[1;32m    955\u001b[0m \u001b[38;5;28;01mif\u001b[39;00m n \u001b[38;5;241m<\u001b[39m \u001b[38;5;241m1\u001b[39m:\n\u001b[1;32m    956\u001b[0m     \u001b[38;5;28;01mraise\u001b[39;00m \u001b[38;5;167;01mValueError\u001b[39;00m(\u001b[38;5;124m\"\u001b[39m\u001b[38;5;124mn must be >= 1 or None\u001b[39m\u001b[38;5;124m\"\u001b[39m)\n",
      "\u001b[0;31mValueError\u001b[0m: cannot convert float NaN to integer"
     ]
    },
    {
     "name": "stderr",
     "output_type": "stream",
     "text": [
      "posx and posy should be finite values\n",
      "posx and posy should be finite values\n",
      "posx and posy should be finite values\n",
      "posx and posy should be finite values\n"
     ]
    },
    {
     "ename": "ValueError",
     "evalue": "need at least one array to concatenate",
     "output_type": "error",
     "traceback": [
      "\u001b[0;31m---------------------------------------------------------------------------\u001b[0m",
      "\u001b[0;31mValueError\u001b[0m                                Traceback (most recent call last)",
      "File \u001b[0;32m~/.local/lib/python3.11/site-packages/IPython/core/formatters.py:340\u001b[0m, in \u001b[0;36mBaseFormatter.__call__\u001b[0;34m(self, obj)\u001b[0m\n\u001b[1;32m    338\u001b[0m     \u001b[38;5;28;01mpass\u001b[39;00m\n\u001b[1;32m    339\u001b[0m \u001b[38;5;28;01melse\u001b[39;00m:\n\u001b[0;32m--> 340\u001b[0m     \u001b[38;5;28;01mreturn\u001b[39;00m \u001b[43mprinter\u001b[49m\u001b[43m(\u001b[49m\u001b[43mobj\u001b[49m\u001b[43m)\u001b[49m\n\u001b[1;32m    341\u001b[0m \u001b[38;5;66;03m# Finally look for special method names\u001b[39;00m\n\u001b[1;32m    342\u001b[0m method \u001b[38;5;241m=\u001b[39m get_real_method(obj, \u001b[38;5;28mself\u001b[39m\u001b[38;5;241m.\u001b[39mprint_method)\n",
      "File \u001b[0;32m~/.local/lib/python3.11/site-packages/IPython/core/pylabtools.py:152\u001b[0m, in \u001b[0;36mprint_figure\u001b[0;34m(fig, fmt, bbox_inches, base64, **kwargs)\u001b[0m\n\u001b[1;32m    149\u001b[0m     \u001b[38;5;28;01mfrom\u001b[39;00m \u001b[38;5;21;01mmatplotlib\u001b[39;00m\u001b[38;5;21;01m.\u001b[39;00m\u001b[38;5;21;01mbackend_bases\u001b[39;00m \u001b[38;5;28;01mimport\u001b[39;00m FigureCanvasBase\n\u001b[1;32m    150\u001b[0m     FigureCanvasBase(fig)\n\u001b[0;32m--> 152\u001b[0m \u001b[43mfig\u001b[49m\u001b[38;5;241;43m.\u001b[39;49m\u001b[43mcanvas\u001b[49m\u001b[38;5;241;43m.\u001b[39;49m\u001b[43mprint_figure\u001b[49m\u001b[43m(\u001b[49m\u001b[43mbytes_io\u001b[49m\u001b[43m,\u001b[49m\u001b[43m \u001b[49m\u001b[38;5;241;43m*\u001b[39;49m\u001b[38;5;241;43m*\u001b[39;49m\u001b[43mkw\u001b[49m\u001b[43m)\u001b[49m\n\u001b[1;32m    153\u001b[0m data \u001b[38;5;241m=\u001b[39m bytes_io\u001b[38;5;241m.\u001b[39mgetvalue()\n\u001b[1;32m    154\u001b[0m \u001b[38;5;28;01mif\u001b[39;00m fmt \u001b[38;5;241m==\u001b[39m \u001b[38;5;124m'\u001b[39m\u001b[38;5;124msvg\u001b[39m\u001b[38;5;124m'\u001b[39m:\n",
      "File \u001b[0;32m~/anaconda3/lib/python3.11/site-packages/matplotlib/backend_bases.py:2346\u001b[0m, in \u001b[0;36mFigureCanvasBase.print_figure\u001b[0;34m(self, filename, dpi, facecolor, edgecolor, orientation, format, bbox_inches, pad_inches, bbox_extra_artists, backend, **kwargs)\u001b[0m\n\u001b[1;32m   2344\u001b[0m \u001b[38;5;28;01mif\u001b[39;00m bbox_inches:\n\u001b[1;32m   2345\u001b[0m     \u001b[38;5;28;01mif\u001b[39;00m bbox_inches \u001b[38;5;241m==\u001b[39m \u001b[38;5;124m\"\u001b[39m\u001b[38;5;124mtight\u001b[39m\u001b[38;5;124m\"\u001b[39m:\n\u001b[0;32m-> 2346\u001b[0m         bbox_inches \u001b[38;5;241m=\u001b[39m \u001b[38;5;28;43mself\u001b[39;49m\u001b[38;5;241;43m.\u001b[39;49m\u001b[43mfigure\u001b[49m\u001b[38;5;241;43m.\u001b[39;49m\u001b[43mget_tightbbox\u001b[49m\u001b[43m(\u001b[49m\n\u001b[1;32m   2347\u001b[0m \u001b[43m            \u001b[49m\u001b[43mrenderer\u001b[49m\u001b[43m,\u001b[49m\u001b[43m \u001b[49m\u001b[43mbbox_extra_artists\u001b[49m\u001b[38;5;241;43m=\u001b[39;49m\u001b[43mbbox_extra_artists\u001b[49m\u001b[43m)\u001b[49m\n\u001b[1;32m   2348\u001b[0m         \u001b[38;5;28;01mif\u001b[39;00m pad_inches \u001b[38;5;129;01mis\u001b[39;00m \u001b[38;5;28;01mNone\u001b[39;00m:\n\u001b[1;32m   2349\u001b[0m             pad_inches \u001b[38;5;241m=\u001b[39m rcParams[\u001b[38;5;124m'\u001b[39m\u001b[38;5;124msavefig.pad_inches\u001b[39m\u001b[38;5;124m'\u001b[39m]\n",
      "File \u001b[0;32m~/anaconda3/lib/python3.11/site-packages/matplotlib/figure.py:1776\u001b[0m, in \u001b[0;36mFigureBase.get_tightbbox\u001b[0;34m(self, renderer, bbox_extra_artists)\u001b[0m\n\u001b[1;32m   1773\u001b[0m     artists \u001b[38;5;241m=\u001b[39m bbox_extra_artists\n\u001b[1;32m   1775\u001b[0m \u001b[38;5;28;01mfor\u001b[39;00m a \u001b[38;5;129;01min\u001b[39;00m artists:\n\u001b[0;32m-> 1776\u001b[0m     bbox \u001b[38;5;241m=\u001b[39m \u001b[43ma\u001b[49m\u001b[38;5;241;43m.\u001b[39;49m\u001b[43mget_tightbbox\u001b[49m\u001b[43m(\u001b[49m\u001b[43mrenderer\u001b[49m\u001b[43m)\u001b[49m\n\u001b[1;32m   1777\u001b[0m     \u001b[38;5;28;01mif\u001b[39;00m bbox \u001b[38;5;129;01mis\u001b[39;00m \u001b[38;5;129;01mnot\u001b[39;00m \u001b[38;5;28;01mNone\u001b[39;00m:\n\u001b[1;32m   1778\u001b[0m         bb\u001b[38;5;241m.\u001b[39mappend(bbox)\n",
      "File \u001b[0;32m~/anaconda3/lib/python3.11/site-packages/matplotlib/axes/_base.py:4408\u001b[0m, in \u001b[0;36m_AxesBase.get_tightbbox\u001b[0;34m(self, renderer, call_axes_locator, bbox_extra_artists, for_layout_only)\u001b[0m\n\u001b[1;32m   4405\u001b[0m     bbox_artists \u001b[38;5;241m=\u001b[39m \u001b[38;5;28mself\u001b[39m\u001b[38;5;241m.\u001b[39mget_default_bbox_extra_artists()\n\u001b[1;32m   4407\u001b[0m \u001b[38;5;28;01mfor\u001b[39;00m a \u001b[38;5;129;01min\u001b[39;00m bbox_artists:\n\u001b[0;32m-> 4408\u001b[0m     bbox \u001b[38;5;241m=\u001b[39m \u001b[43ma\u001b[49m\u001b[38;5;241;43m.\u001b[39;49m\u001b[43mget_tightbbox\u001b[49m\u001b[43m(\u001b[49m\u001b[43mrenderer\u001b[49m\u001b[43m)\u001b[49m\n\u001b[1;32m   4409\u001b[0m     \u001b[38;5;28;01mif\u001b[39;00m (bbox \u001b[38;5;129;01mis\u001b[39;00m \u001b[38;5;129;01mnot\u001b[39;00m \u001b[38;5;28;01mNone\u001b[39;00m\n\u001b[1;32m   4410\u001b[0m             \u001b[38;5;129;01mand\u001b[39;00m \u001b[38;5;241m0\u001b[39m \u001b[38;5;241m<\u001b[39m bbox\u001b[38;5;241m.\u001b[39mwidth \u001b[38;5;241m<\u001b[39m np\u001b[38;5;241m.\u001b[39minf\n\u001b[1;32m   4411\u001b[0m             \u001b[38;5;129;01mand\u001b[39;00m \u001b[38;5;241m0\u001b[39m \u001b[38;5;241m<\u001b[39m bbox\u001b[38;5;241m.\u001b[39mheight \u001b[38;5;241m<\u001b[39m np\u001b[38;5;241m.\u001b[39minf):\n\u001b[1;32m   4412\u001b[0m         bb\u001b[38;5;241m.\u001b[39mappend(bbox)\n",
      "File \u001b[0;32m~/anaconda3/lib/python3.11/site-packages/matplotlib/artist.py:367\u001b[0m, in \u001b[0;36mArtist.get_tightbbox\u001b[0;34m(self, renderer)\u001b[0m\n\u001b[1;32m    352\u001b[0m \u001b[38;5;28;01mdef\u001b[39;00m \u001b[38;5;21mget_tightbbox\u001b[39m(\u001b[38;5;28mself\u001b[39m, renderer\u001b[38;5;241m=\u001b[39m\u001b[38;5;28;01mNone\u001b[39;00m):\n\u001b[1;32m    353\u001b[0m \u001b[38;5;250m    \u001b[39m\u001b[38;5;124;03m\"\"\"\u001b[39;00m\n\u001b[1;32m    354\u001b[0m \u001b[38;5;124;03m    Like `.Artist.get_window_extent`, but includes any clipping.\u001b[39;00m\n\u001b[1;32m    355\u001b[0m \n\u001b[0;32m   (...)\u001b[0m\n\u001b[1;32m    365\u001b[0m \u001b[38;5;124;03m        The enclosing bounding box (in figure pixel coordinates).\u001b[39;00m\n\u001b[1;32m    366\u001b[0m \u001b[38;5;124;03m    \"\"\"\u001b[39;00m\n\u001b[0;32m--> 367\u001b[0m     bbox \u001b[38;5;241m=\u001b[39m \u001b[38;5;28;43mself\u001b[39;49m\u001b[38;5;241;43m.\u001b[39;49m\u001b[43mget_window_extent\u001b[49m\u001b[43m(\u001b[49m\u001b[43mrenderer\u001b[49m\u001b[43m)\u001b[49m\n\u001b[1;32m    368\u001b[0m     \u001b[38;5;28;01mif\u001b[39;00m \u001b[38;5;28mself\u001b[39m\u001b[38;5;241m.\u001b[39mget_clip_on():\n\u001b[1;32m    369\u001b[0m         clip_box \u001b[38;5;241m=\u001b[39m \u001b[38;5;28mself\u001b[39m\u001b[38;5;241m.\u001b[39mget_clip_box()\n",
      "File \u001b[0;32m~/anaconda3/lib/python3.11/site-packages/matplotlib/patches.py:604\u001b[0m, in \u001b[0;36mPatch.get_window_extent\u001b[0;34m(self, renderer)\u001b[0m\n\u001b[1;32m    603\u001b[0m \u001b[38;5;28;01mdef\u001b[39;00m \u001b[38;5;21mget_window_extent\u001b[39m(\u001b[38;5;28mself\u001b[39m, renderer\u001b[38;5;241m=\u001b[39m\u001b[38;5;28;01mNone\u001b[39;00m):\n\u001b[0;32m--> 604\u001b[0m     \u001b[38;5;28;01mreturn\u001b[39;00m \u001b[38;5;28;43mself\u001b[39;49m\u001b[38;5;241;43m.\u001b[39;49m\u001b[43mget_path\u001b[49m\u001b[43m(\u001b[49m\u001b[43m)\u001b[49m\u001b[38;5;241;43m.\u001b[39;49m\u001b[43mget_extents\u001b[49m\u001b[43m(\u001b[49m\u001b[38;5;28;43mself\u001b[39;49m\u001b[38;5;241;43m.\u001b[39;49m\u001b[43mget_transform\u001b[49m\u001b[43m(\u001b[49m\u001b[43m)\u001b[49m\u001b[43m)\u001b[49m\n",
      "File \u001b[0;32m~/anaconda3/lib/python3.11/site-packages/matplotlib/path.py:638\u001b[0m, in \u001b[0;36mPath.get_extents\u001b[0;34m(self, transform, **kwargs)\u001b[0m\n\u001b[1;32m    636\u001b[0m         \u001b[38;5;66;03m# as can the ends of the curve\u001b[39;00m\n\u001b[1;32m    637\u001b[0m         xys\u001b[38;5;241m.\u001b[39mappend(curve([\u001b[38;5;241m0\u001b[39m, \u001b[38;5;241m*\u001b[39mdzeros, \u001b[38;5;241m1\u001b[39m]))\n\u001b[0;32m--> 638\u001b[0m     xys \u001b[38;5;241m=\u001b[39m \u001b[43mnp\u001b[49m\u001b[38;5;241;43m.\u001b[39;49m\u001b[43mconcatenate\u001b[49m\u001b[43m(\u001b[49m\u001b[43mxys\u001b[49m\u001b[43m)\u001b[49m\n\u001b[1;32m    639\u001b[0m \u001b[38;5;28;01mif\u001b[39;00m \u001b[38;5;28mlen\u001b[39m(xys):\n\u001b[1;32m    640\u001b[0m     \u001b[38;5;28;01mreturn\u001b[39;00m Bbox([xys\u001b[38;5;241m.\u001b[39mmin(axis\u001b[38;5;241m=\u001b[39m\u001b[38;5;241m0\u001b[39m), xys\u001b[38;5;241m.\u001b[39mmax(axis\u001b[38;5;241m=\u001b[39m\u001b[38;5;241m0\u001b[39m)])\n",
      "File \u001b[0;32m<__array_function__ internals>:200\u001b[0m, in \u001b[0;36mconcatenate\u001b[0;34m(*args, **kwargs)\u001b[0m\n",
      "\u001b[0;31mValueError\u001b[0m: need at least one array to concatenate"
     ]
    },
    {
     "data": {
      "text/plain": [
       "<Figure size 600x600 with 1 Axes>"
      ]
     },
     "metadata": {},
     "output_type": "display_data"
    }
   ],
   "source": [
    "sns.set_style(\"whitegrid\")\n",
    "plt.figure(figsize=(6,6))\n",
    "plt.pie(data['Average Checkouts per Year'], labels=data['Average Checkouts per Year'], autopct='%1.1f%%')\n",
    "plt.title('Checkouts')\n",
    "plt.show()"
   ]
  },
  {
   "cell_type": "code",
   "execution_count": null,
   "id": "ea05c3e7",
   "metadata": {},
   "outputs": [],
   "source": []
  }
 ],
 "metadata": {
  "kernelspec": {
   "display_name": "Python 3 (ipykernel)",
   "language": "python",
   "name": "python3"
  },
  "language_info": {
   "codemirror_mode": {
    "name": "ipython",
    "version": 3
   },
   "file_extension": ".py",
   "mimetype": "text/x-python",
   "name": "python",
   "nbconvert_exporter": "python",
   "pygments_lexer": "ipython3",
   "version": "3.11.5"
  }
 },
 "nbformat": 4,
 "nbformat_minor": 5
}
